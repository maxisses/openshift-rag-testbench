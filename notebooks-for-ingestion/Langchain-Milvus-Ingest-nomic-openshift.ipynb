{
 "cells": [
  {
   "cell_type": "markdown",
   "id": "3420575b-4d00-458b-aa0e-7030008ccd53",
   "metadata": {},
   "source": [
    "## Creating an index and populating it with documents using Milvus and Nomic AI Embeddings\n",
    "\n",
    "Simple example on how to ingest PDF documents, then web pages content into a Milvus VectorStore. . In this example, the embeddings are the fully open source ones released by NomicAI, [nomic-embed-text-v1](https://huggingface.co/nomic-ai/nomic-embed-text-v1).\n",
    "\n",
    "As described in [this blog post](https://blog.nomic.ai/posts/nomic-embed-text-v1), those embeddings feature a \"8192 context-length that outperforms OpenAI Ada-002 and text-embedding-3-small on both short and long context tasks\". In additions, they are:\n",
    "\n",
    "- Open source\n",
    "- Open data\n",
    "- Open training code\n",
    "- Fully reproducible and auditable\n",
    "\n",
    "Requirements:\n",
    "- A Milvus instance, either standalone or cluster."
   ]
  },
  {
   "cell_type": "markdown",
   "id": "8308b229-b520-4e82-a783-eb921bb955e7",
   "metadata": {},
   "source": [
    "### Needed packages and imports"
   ]
  },
  {
   "cell_type": "code",
   "execution_count": null,
   "id": "91e41b41-f60a-4b0f-91a1-cd273b60f21b",
   "metadata": {
    "tags": []
   },
   "outputs": [],
   "source": [
    "!pip install -q einops==0.7.0 langchain==0.1.9 pypdf==4.0.2 pymilvus==2.3.6 sentence-transformers==2.4.0"
   ]
  },
  {
   "cell_type": "code",
   "execution_count": null,
   "id": "600cd763-6ecc-4c77-89c0-47108c31c44e",
   "metadata": {
    "tags": []
   },
   "outputs": [],
   "source": [
    "import requests\n",
    "import os\n",
    "from langchain.document_loaders import PyPDFDirectoryLoader, WebBaseLoader\n",
    "from langchain.text_splitter import RecursiveCharacterTextSplitter\n",
    "from langchain.embeddings.huggingface import HuggingFaceEmbeddings\n",
    "from langchain_community.vectorstores import Milvus"
   ]
  },
  {
   "cell_type": "markdown",
   "id": "1a82063d-6153-4812-8977-042241736b53",
   "metadata": {},
   "source": [
    "### Base parameters, the Milvus connection info"
   ]
  },
  {
   "cell_type": "code",
   "execution_count": null,
   "id": "417ed4a4-9418-4f48-bebd-ef0ea11ae434",
   "metadata": {
    "tags": []
   },
   "outputs": [],
   "source": [
    "MILVUS_HOST = \"vectordb-milvus\"\n",
    "MILVUS_PORT = 19530\n",
    "MILVUS_USERNAME = \"root\"\n",
    "MILVUS_PASSWORD = \"Milvus\"\n",
    "MILVUS_COLLECTION = \"ocp_and_rhoai\""
   ]
  },
  {
   "cell_type": "markdown",
   "id": "f68f6785-480e-4519-be4f-8e1738dba4ca",
   "metadata": {},
   "source": [
    "## Initial index creation and document ingestion"
   ]
  },
  {
   "cell_type": "markdown",
   "id": "f8cff5f7-c509-48db-90b5-e15815b8b530",
   "metadata": {},
   "source": [
    "#### Download and load pdfs"
   ]
  },
  {
   "cell_type": "markdown",
   "id": "f72d78b5-1a72-4200-87ea-16d5190216e2",
   "metadata": {
    "tags": []
   },
   "source": [
    "## RHOAI"
   ]
  },
  {
   "cell_type": "code",
   "execution_count": null,
   "id": "bc4fe0db-f494-4cbd-9e97-8b6359a78cb7",
   "metadata": {
    "tags": []
   },
   "outputs": [],
   "source": [
    "product_version = \"2-latest\"\n",
    "documents = [\n",
    "    \"release_notes\",\n",
    "    \"introduction_to_red_hat_openshift_ai\",\n",
    "    \"getting_started_with_red_hat_openshift_ai_self-managed\",\n",
    "    \"openshift_ai_tutorial_-_fraud_detection_example\",\n",
    "    \"developing_a_model\",\n",
    "    \"integrating_data_from_amazon_s3\",\n",
    "    \"working_on_data_science_projects\",\n",
    "    \"Working_with_distributed_workloads\",\n",
    "    \"serving_models\",\n",
    "    \"managing_users\",\n",
    "    \"managing_resources\",\n",
    "    \"installing_and_uninstalling_openshift_ai_self-managed\",\n",
    "    \"installing_and_uninstalling_openshift_ai_self-managed_in_a_disconnected_environment\",\n",
    "    \"upgrading_openshift_ai_self-managed\",\n",
    "    \"upgrading_openshift_ai_self-managed_in_a_disconnected_environment\",   \n",
    "]\n",
    "\n",
    "pdfs = [f\"https://access.redhat.com/documentation/en-us/red_hat_openshift_ai_self-managed/{product_version}/pdf/{doc}/red_hat_openshift_ai_self-managed-{product_version}-{doc}-en-us.pdf\" for doc in documents]\n",
    "pdfs_to_urls_rhoai = {f\"red_hat_openshift_ai_self-managed-{product_version}-{doc}-en-us\": f\"https://access.redhat.com/documentation/en-us/red_hat_openshift_ai_self-managed/{product_version}/html-single/{doc}/index\" for doc in documents}"
   ]
  },
  {
   "cell_type": "code",
   "execution_count": null,
   "id": "3eea5acc-49df-41c9-a01a-0cdbca96e8e2",
   "metadata": {
    "tags": []
   },
   "outputs": [],
   "source": [
    "try:\n",
    "    os.mkdir(f\"rhoai-doc-{product_version}\")\n",
    "except:\n",
    "    pass\n",
    "\n",
    "\n",
    "for pdf in pdfs:\n",
    "    try:\n",
    "        response = requests.get(pdf)\n",
    "    except:\n",
    "        print(f\"Skipped {pdf}\")\n",
    "        continue\n",
    "    if response.status_code!=200:\n",
    "        print(f\"Skipped {pdf}\")\n",
    "        continue  \n",
    "    with open(f\"rhoai-doc-{product_version}/{pdf.split('/')[-1]}\", 'wb') as f:\n",
    "        f.write(response.content)"
   ]
  },
  {
   "cell_type": "code",
   "execution_count": null,
   "id": "f6e3f040-cb0b-4f49-b183-82c04f7b34b8",
   "metadata": {},
   "outputs": [],
   "source": [
    "pdf_folder_path = f\"./rhoai-doc-{product_version}\"\n",
    "\n",
    "pdf_loader = PyPDFDirectoryLoader(pdf_folder_path)\n",
    "pdf_docs_rhoai = pdf_loader.load()"
   ]
  },
  {
   "cell_type": "code",
   "execution_count": null,
   "id": "74ed50cf-3cc8-4221-b3f8-3de794ad2a36",
   "metadata": {},
   "outputs": [],
   "source": [
    "len(pdf_docs_rhoai)"
   ]
  },
  {
   "cell_type": "markdown",
   "id": "cd1841a7-21b1-4bc9-b983-b47a4fd6417c",
   "metadata": {
    "tags": []
   },
   "source": [
    "## OpenShift"
   ]
  },
  {
   "cell_type": "code",
   "execution_count": null,
   "id": "c969ac79-64d1-4f3a-aadd-d0bfdc189aa5",
   "metadata": {
    "tags": []
   },
   "outputs": [],
   "source": [
    "product_version = \"4.15\"\n",
    "documents = [\n",
    "    \"about\",\n",
    "    \"getting_started\",\n",
    "    \"release_notes\",\n",
    "    \"security_and_compliance\",\n",
    "    \"architecture\",\n",
    "    \"support\",\n",
    "    \"installing\",\n",
    "    \"Installing_OpenShift_Container_Platform_with_the_Assisted_Installer\",\n",
    "    \"updating_clusters\",\n",
    "    \"authentication_and_authorization\",\n",
    "    \"networking\",\n",
    "    \"registry\",\n",
    "    \"postinstallation_configuration\",\n",
    "    \"storage\",\n",
    "    \"scalability_and_performance\",\n",
    "    \"edge_computing\",\n",
    "    \"migrating_from_version_3_to_4\",\n",
    "    \"Migration_Toolkit_for_Containers\",\n",
    "    \"backup_and_restore\",\n",
    "    \"machine_management\",\n",
    "    \"web_console\",\n",
    "    \"hosted_control_planes\",\n",
    "    \"cli_tools\",\n",
    "    \"building_applications\",\n",
    "    \"serverless\",\n",
    "    \"images\",\n",
    "    \"nodes\",\n",
    "    \"operators\",\n",
    "    \"specialized_hardware_and_driver_enablement\",\n",
    "    \"Builds_using_BuildConfig\",\n",
    "    \"jenkins\",\n",
    "    \"monitoring\",\n",
    "    \"logging\",\n",
    "    \"distributed_tracing\",\n",
    "    \"red_hat_build_of_opentelemetry\",\n",
    "    \"network_observability\",\n",
    "    \"power_monitoring\",\n",
    "    \"cluster_observability_operator\",\n",
    "    \"virtualization\",\n",
    "    \"service_mesh\",\n",
    "    \"Windows_Container_Support_for_OpenShift\"  \n",
    "]"
   ]
  },
  {
   "cell_type": "code",
   "execution_count": null,
   "id": "56ea8892-a2b8-44c0-ae3e-36a3065f0219",
   "metadata": {
    "tags": []
   },
   "outputs": [],
   "source": [
    "pdfs_ocp = [f\"https://access.redhat.com/documentation/de-de/openshift_container_platform/{product_version}/pdf/{doc}/OpenShift_Container_Platform-{product_version}-{doc}-en-us.pdf\" for doc in documents]\n",
    "pdfs_to_urls_ocp = {f\"openshift_container_platform-{product_version}-{doc}-en-us\": f\"https://access.redhat.com/documentation/de-de/openshift_container_platform/{product_version}/html-single/{doc}/index\" for doc in documents}"
   ]
  },
  {
   "cell_type": "code",
   "execution_count": null,
   "id": "67c6454b-7cc3-4e29-9585-7bf0650b2975",
   "metadata": {
    "tags": []
   },
   "outputs": [],
   "source": [
    "try:\n",
    "    os.mkdir(f\"ocp-doc-{product_version}\")\n",
    "except:\n",
    "    pass\n",
    "\n",
    "for pdf in pdfs_ocp:\n",
    "    try:\n",
    "        response = requests.get(pdf)\n",
    "    except:\n",
    "        print(f\"Skipped {pdf}\")\n",
    "        continue\n",
    "    if response.status_code!=200:\n",
    "        print(f\"Skipped {pdf}\")\n",
    "        continue  \n",
    "    with open(f\"ocp-doc-{product_version}/{pdf.split('/')[-1]}\", 'wb') as f:\n",
    "        f.write(response.content)"
   ]
  },
  {
   "cell_type": "code",
   "execution_count": null,
   "id": "af4074d4-eff4-45b2-902d-ec8c075a83ef",
   "metadata": {
    "tags": []
   },
   "outputs": [],
   "source": [
    "pdf_folder_path = f\"./ocp-doc-{product_version}\"\n",
    "\n",
    "pdf_loader = PyPDFDirectoryLoader(pdf_folder_path)\n",
    "pdf_docs_ocp = pdf_loader.load()"
   ]
  },
  {
   "cell_type": "code",
   "execution_count": null,
   "id": "dd1a9110-e719-4e8e-9187-1c2d0333ce0a",
   "metadata": {
    "tags": []
   },
   "outputs": [],
   "source": [
    "len(pdf_docs_ocp)"
   ]
  },
  {
   "cell_type": "markdown",
   "id": "3482b00f-9d06-4003-b369-7c439b899500",
   "metadata": {},
   "source": [
    "## GitOps"
   ]
  },
  {
   "cell_type": "code",
   "execution_count": null,
   "id": "2179bdc4-21fa-4ab3-ad49-ca56ac8eff0b",
   "metadata": {
    "tags": []
   },
   "outputs": [],
   "source": [
    "product_version = \"1.12\"\n",
    "documents = [\n",
    "    \"understanding_openshift_gitops\",\n",
    "    \"release_notes\",\n",
    "    \"installing_gitops\",\n",
    "    \"removing_gitops\",\n",
    "    \"argo_cd_instance\",\n",
    "    \"access_control_and_user_management\",\n",
    "    \"managing_resource_use\",\n",
    "    \"argo_cd_applications\",\n",
    "    \"argo_cd_application_sets\",\n",
    "    \"declarative_cluster_configuration\",\n",
    "    \"argo_rollouts\",\n",
    "    \"security\",\n",
    "    \"GitOps_workloads_on_infrastructure_nodes\",\n",
    "    \"observability\",\n",
    "    \"troubleshooting_issues\"\n",
    "]"
   ]
  },
  {
   "cell_type": "code",
   "execution_count": null,
   "id": "2cd24a83-ec24-467e-8587-66ee9d5bd754",
   "metadata": {
    "tags": []
   },
   "outputs": [],
   "source": [
    "pdfs_gitops = [f\"https://access.redhat.com/documentation/en-us/red_hat_openshift_gitops/{product_version}/pdf/{doc}/Red_Hat_OpenShift_GitOps-{product_version}-{doc}-en-us.pdf\" for doc in documents]\n",
    "pdfs_to_urls_gitops = {f\"red_hat_openshift_gitops-{product_version}-{doc}-en-us\": f\"https://access.redhat.com/documentation/en-us/red_hat_openshift_gitops/{product_version}/html-single/{doc}/index\" for doc in documents}"
   ]
  },
  {
   "cell_type": "code",
   "execution_count": null,
   "id": "acfdae99-8d79-4aa2-b8de-3537cbd0904d",
   "metadata": {
    "tags": []
   },
   "outputs": [],
   "source": [
    "try:\n",
    "    os.mkdir(f\"ocp-gitops-{product_version}\")\n",
    "except:\n",
    "    pass\n",
    "\n",
    "for pdf in pdfs_gitops:\n",
    "    try:\n",
    "        response = requests.get(pdf)\n",
    "    except:\n",
    "        print(f\"Skipped {pdf}\")\n",
    "        continue\n",
    "    if response.status_code!=200:\n",
    "        print(f\"Skipped {pdf}\")\n",
    "        continue  \n",
    "    with open(f\"ocp-gitops-{product_version}/{pdf.split('/')[-1]}\", 'wb') as f:\n",
    "        f.write(response.content)"
   ]
  },
  {
   "cell_type": "code",
   "execution_count": null,
   "id": "e358760f-f817-4117-a1f3-24cf84f44be0",
   "metadata": {},
   "outputs": [],
   "source": [
    "pdf_folder_path = f\"./ocp-gitops-{product_version}\"\n",
    "\n",
    "pdf_loader = PyPDFDirectoryLoader(pdf_folder_path)\n",
    "pdf_docs_gitops = pdf_loader.load()"
   ]
  },
  {
   "cell_type": "code",
   "execution_count": null,
   "id": "7531bf00-bc11-4340-8eca-d071b0073e41",
   "metadata": {},
   "outputs": [],
   "source": [
    "len(pdf_docs_gitops)"
   ]
  },
  {
   "cell_type": "markdown",
   "id": "19fcba7e-ea2d-4194-85e4-a694f52db650",
   "metadata": {},
   "source": [
    "## Pipelines"
   ]
  },
  {
   "cell_type": "code",
   "execution_count": null,
   "id": "b75c8b60-03a7-403c-9120-30adbb3f2422",
   "metadata": {
    "tags": []
   },
   "outputs": [],
   "source": [
    "product_version = \"1.14\"\n",
    "documents = [\n",
    "    \"About_OpenShift_Pipelines\",\n",
    "    \"installing_and_configuring\",\n",
    "    \"Managing_performance_and_resource_use\",\n",
    "    \"Creating_CICD_pipelines\",\n",
    "    \"Pipelines_as_Code\",\n",
    "    \"securing_openshift_pipelines\",\n",
    "    \"observability_in_openshift_pipelines\",\n",
    "    \"Custom_Tekton_Hub_instance\"\n",
    "]"
   ]
  },
  {
   "cell_type": "code",
   "execution_count": null,
   "id": "0d054da5-cb49-4fc9-9d51-4a2c4c970061",
   "metadata": {
    "tags": []
   },
   "outputs": [],
   "source": [
    "pdfs_pipelines = [f\"https://access.redhat.com/documentation/en-us/red_hat_openshift_pipelines/{product_version}/pdf/{doc}/Red_Hat_OpenShift_GitOps-{product_version}-{doc}-en-us.pdf\" for doc in documents]\n",
    "pdfs_to_urls_pipelines = {f\"red_hat_openshift_pipelines-{product_version}-{doc}-en-us\": f\"https://access.redhat.com/documentation/en-us/red_hat_openshift_pipelines/{product_version}/html-single/{doc}/index\" for doc in documents}"
   ]
  },
  {
   "cell_type": "code",
   "execution_count": null,
   "id": "1eb47094-9c1d-468a-97a7-091ccc9653d2",
   "metadata": {
    "tags": []
   },
   "outputs": [],
   "source": [
    "try:\n",
    "    os.mkdir(f\"ocp-pipelines-{product_version}\")\n",
    "except:\n",
    "    pass\n",
    "\n",
    "for pdf in pdfs_pipelines:\n",
    "    try:\n",
    "        response = requests.get(pdf)\n",
    "    except:\n",
    "        print(f\"Skipped {pdf}\")\n",
    "        continue\n",
    "    if response.status_code!=200:\n",
    "        print(f\"Skipped {pdf}\")\n",
    "        continue  \n",
    "    with open(f\"ocp-pipelines-{product_version}/{pdf.split('/')[-1]}\", 'wb') as f:\n",
    "        f.write(response.content)"
   ]
  },
  {
   "cell_type": "code",
   "execution_count": null,
   "id": "c7817e70-c556-4bc0-be71-186e9ffc1c35",
   "metadata": {
    "tags": []
   },
   "outputs": [],
   "source": [
    "pdf_folder_path = f\"./ocp-gitops-{product_version}\"\n",
    "\n",
    "pdf_loader = PyPDFDirectoryLoader(pdf_folder_path)\n",
    "pdf_docs_pipelines = pdf_loader.load()"
   ]
  },
  {
   "cell_type": "markdown",
   "id": "cde7ed3a-0530-47a1-95c2-22db6c782a95",
   "metadata": {},
   "source": [
    "#### Inject metadata"
   ]
  },
  {
   "cell_type": "code",
   "execution_count": null,
   "id": "e22a83b4-c74b-4431-93e8-76d9740164a6",
   "metadata": {
    "tags": []
   },
   "outputs": [],
   "source": [
    "pdfs_to_urls = pdfs_to_urls_rhoai | pdfs_to_urls_ocp | pdfs_to_urls_gitops | pdfs_to_urls_pipelines\n",
    "pdf_docs = pdf_docs_rhoai + pdf_docs_ocp + pdf_docs_gitops + pdf_docs_pipelines"
   ]
  },
  {
   "cell_type": "code",
   "execution_count": null,
   "id": "5cbb1dc6-c42e-4d4f-91b4-3ab527815d94",
   "metadata": {
    "tags": []
   },
   "outputs": [],
   "source": [
    "len(pdf_docs)"
   ]
  },
  {
   "cell_type": "code",
   "execution_count": null,
   "id": "702230f6-e6d3-44c7-a643-4996387606ff",
   "metadata": {
    "tags": []
   },
   "outputs": [],
   "source": [
    "#from pathlib import Path\n",
    "\n",
    "#for doc in pdf_docs:\n",
    "#    doc.metadata[\"source\"] = pdfs_to_urls[Path(doc.metadata[\"source\"]).stem]"
   ]
  },
  {
   "cell_type": "markdown",
   "id": "dd511d44-2d92-47a0-9163-b25576c9557b",
   "metadata": {},
   "source": [
    "#### Load websites"
   ]
  },
  {
   "cell_type": "code",
   "execution_count": null,
   "id": "8aebf003-d7ec-43ba-8e04-1931bcff2866",
   "metadata": {
    "tags": []
   },
   "outputs": [],
   "source": [
    "websites = [\n",
    "    \"https://ai-on-openshift.io/getting-started/openshift/\",\n",
    "    \"https://ai-on-openshift.io/getting-started/opendatahub/\",\n",
    "    \"https://ai-on-openshift.io/getting-started/openshift-ai/\",\n",
    "    \"https://ai-on-openshift.io/odh-rhoai/configuration/\",\n",
    "    \"https://ai-on-openshift.io/odh-rhoai/custom-notebooks/\",\n",
    "    \"https://ai-on-openshift.io/odh-rhoai/nvidia-gpus/\",\n",
    "    \"https://ai-on-openshift.io/odh-rhoai/custom-runtime-triton/\",\n",
    "    \"https://ai-on-openshift.io/odh-rhoai/openshift-group-management/\",\n",
    "    \"https://ai-on-openshift.io/tools-and-applications/minio/minio/\",\n",
    "    \"https://access.redhat.com/articles/7047935\",\n",
    "    \"https://access.redhat.com/articles/rhoai-supported-configs\",\n",
    "]"
   ]
  },
  {
   "cell_type": "code",
   "execution_count": null,
   "id": "99f41110-8ca7-4d90-93b2-3b5021c894b8",
   "metadata": {
    "tags": []
   },
   "outputs": [],
   "source": [
    "website_loader = WebBaseLoader(websites)\n",
    "website_docs = website_loader.load()"
   ]
  },
  {
   "cell_type": "markdown",
   "id": "157ddd29-54b3-474a-9b10-2d274bc3254f",
   "metadata": {},
   "source": [
    "#### Merge both types of docs"
   ]
  },
  {
   "cell_type": "code",
   "execution_count": null,
   "id": "8d361094-8b43-4351-8495-37628c35c42d",
   "metadata": {
    "tags": []
   },
   "outputs": [],
   "source": [
    "docs = pdf_docs + website_docs"
   ]
  },
  {
   "cell_type": "code",
   "execution_count": null,
   "id": "ce3b8144-0fe9-4075-b5f4-067d49291145",
   "metadata": {
    "tags": []
   },
   "outputs": [],
   "source": [
    "docs[15]"
   ]
  },
  {
   "cell_type": "markdown",
   "id": "4198fe0a-38bf-4cd4-af7d-35b41c645edd",
   "metadata": {},
   "source": [
    "#### Split documents into chunks with some overlap"
   ]
  },
  {
   "cell_type": "code",
   "execution_count": null,
   "id": "edba4a08-2194-4df1-9091-6f2b596757a1",
   "metadata": {
    "tags": []
   },
   "outputs": [],
   "source": [
    "text_splitter = RecursiveCharacterTextSplitter(chunk_size=1024,\n",
    "                                               chunk_overlap=80)\n",
    "all_splits = text_splitter.split_documents(docs)\n",
    "all_splits[15]"
   ]
  },
  {
   "cell_type": "code",
   "execution_count": null,
   "id": "d6639356-3e91-4a90-86cc-e04d7aba59d7",
   "metadata": {},
   "outputs": [],
   "source": []
  },
  {
   "cell_type": "markdown",
   "id": "7ae7eae2-c670-4eb5-803b-b4d591fa83db",
   "metadata": {},
   "source": [
    "#### Create the index and ingest the documents"
   ]
  },
  {
   "cell_type": "code",
   "execution_count": null,
   "id": "bbb6a3e3-5ccd-441e-b80d-427555d9e9f6",
   "metadata": {
    "tags": []
   },
   "outputs": [],
   "source": [
    "# If you don't want to use a GPU, you can remove the 'device': 'cuda' argument\n",
    "model_kwargs = {'trust_remote_code': True, 'device': 'cpu'}\n",
    "embeddings = HuggingFaceEmbeddings(\n",
    "    model_name=\"nomic-ai/nomic-embed-text-v1\",\n",
    "    model_kwargs=model_kwargs,\n",
    "    show_progress=True\n",
    ")"
   ]
  },
  {
   "cell_type": "code",
   "execution_count": null,
   "id": "6230dde0-251e-4b32-ba7b-67ba65fde0ca",
   "metadata": {},
   "outputs": [],
   "source": [
    "db = Milvus(\n",
    "    embedding_function=embeddings,\n",
    "    connection_args={\"host\": MILVUS_HOST, \"port\": MILVUS_PORT, \"user\": MILVUS_USERNAME, \"password\": MILVUS_PASSWORD},\n",
    "    collection_name=MILVUS_COLLECTION,\n",
    "    metadata_field=\"metadata\",\n",
    "    text_field=\"page_content\",\n",
    "    auto_id=True,\n",
    "    drop_old=True\n",
    "    )"
   ]
  },
  {
   "cell_type": "code",
   "execution_count": null,
   "id": "b6bf425b-dffd-4f42-9537-49d41383182d",
   "metadata": {
    "tags": []
   },
   "outputs": [],
   "source": [
    "db.add_documents(all_splits)"
   ]
  },
  {
   "cell_type": "markdown",
   "id": "7a3d987b-8ebc-46ce-a206-48c1339b7a5b",
   "metadata": {},
   "source": [
    "#### Alternatively, add new documents"
   ]
  },
  {
   "cell_type": "code",
   "execution_count": null,
   "id": "c37f227d-a13d-456c-b91b-3c203e62fc0f",
   "metadata": {},
   "outputs": [],
   "source": [
    "# If you don't want to use a GPU, you can remove the 'device': 'cuda' argument\n",
    "# model_kwargs = {'trust_remote_code': True, 'device': 'cuda'}\n",
    "# embeddings = HuggingFaceEmbeddings(\n",
    "#     model_name=\"nomic-ai/nomic-embed-text-v1\",\n",
    "#     model_kwargs=model_kwargs,\n",
    "#     show_progress=True\n",
    "# )\n",
    "\n",
    "# db = Milvus(\n",
    "#     embedding_function=embeddings,\n",
    "#     connection_args={\"host\": MILVUS_HOST, \"port\": MILVUS_PORT, \"user\": MILVUS_USERNAME, \"password\": MILVUS_PASSWORD},\n",
    "#     collection_name=MILVUS_COLLECTION,\n",
    "#     metadata_field=\"metadata\",\n",
    "#     text_field=\"page_content\",\n",
    "#     auto_id=True,\n",
    "#     drop_old=False\n",
    "#     )\n",
    "\n",
    "# db.add_documents(all_splits)"
   ]
  },
  {
   "cell_type": "markdown",
   "id": "dae3b458-4979-46df-8493-7496764a2568",
   "metadata": {},
   "source": [
    "#### Test query"
   ]
  },
  {
   "cell_type": "code",
   "execution_count": null,
   "id": "489c6e6d-c42c-4de4-87cf-8edfd0e63da3",
   "metadata": {
    "tags": []
   },
   "outputs": [],
   "source": [
    "query = \"How can I work with GPU and taints in OpenShift AI?\"\n",
    "docs_with_score = db.similarity_search_with_score(query)"
   ]
  },
  {
   "cell_type": "code",
   "execution_count": null,
   "id": "90feeb37-7888-4c5f-a5cb-5f82637cec16",
   "metadata": {
    "tags": []
   },
   "outputs": [],
   "source": [
    "for doc, score in docs_with_score:\n",
    "    print(\"-\" * 80)\n",
    "    print(\"Score: \", score)\n",
    "    print(doc.page_content)\n",
    "    print(\"-\" * 80)"
   ]
  },
  {
   "cell_type": "code",
   "execution_count": null,
   "id": "c0575c15-0a3a-4d42-b6b1-19a6984bb772",
   "metadata": {},
   "outputs": [],
   "source": []
  }
 ],
 "metadata": {
  "kernelspec": {
   "display_name": "Python 3.9",
   "language": "python",
   "name": "python3"
  },
  "language_info": {
   "codemirror_mode": {
    "name": "ipython",
    "version": 3
   },
   "file_extension": ".py",
   "mimetype": "text/x-python",
   "name": "python",
   "nbconvert_exporter": "python",
   "pygments_lexer": "ipython3",
   "version": "3.9.16"
  }
 },
 "nbformat": 4,
 "nbformat_minor": 5
}
