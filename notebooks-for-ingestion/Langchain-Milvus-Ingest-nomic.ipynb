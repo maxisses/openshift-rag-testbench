{
 "cells": [
  {
   "cell_type": "markdown",
   "id": "06980080-ce0e-42cb-8c8a-011d8a9ee8e2",
   "metadata": {
    "tags": []
   },
   "source": [
    "## Creating an index and populating it with documents using Milvus and Nomic AI Embeddings\n",
    "\n",
    "Simple example on how to ingest PDF documents, then web pages content into a Milvus VectorStore. . In this example, the embeddings are the fully open source ones released by NomicAI, [nomic-embed-text-v1](https://huggingface.co/nomic-ai/nomic-embed-text-v1).\n",
    "\n",
    "As described in [this blog post](https://blog.nomic.ai/posts/nomic-embed-text-v1), those embeddings feature a \"8192 context-length that outperforms OpenAI Ada-002 and text-embedding-3-small on both short and long context tasks\". In additions, they are:\n",
    "\n",
    "- Open source\n",
    "- Open data\n",
    "- Open training code\n",
    "- Fully reproducible and auditable\n",
    "\n",
    "Requirements:\n",
    "- A Milvus instance, either standalone or cluster."
   ]
  },
  {
   "cell_type": "markdown",
   "id": "8308b229-b520-4e82-a783-eb921bb955e7",
   "metadata": {},
   "source": [
    "### Needed packages and imports"
   ]
  },
  {
   "cell_type": "code",
   "execution_count": 3,
   "id": "91e41b41-f60a-4b0f-91a1-cd273b60f21b",
   "metadata": {
    "tags": []
   },
   "outputs": [
    {
     "name": "stdout",
     "output_type": "stream",
     "text": [
      "\n",
      "\u001b[1m[\u001b[0m\u001b[34;49mnotice\u001b[0m\u001b[1;39;49m]\u001b[0m\u001b[39;49m A new release of pip available: \u001b[0m\u001b[31;49m22.3.1\u001b[0m\u001b[39;49m -> \u001b[0m\u001b[32;49m24.0\u001b[0m\n",
      "\u001b[1m[\u001b[0m\u001b[34;49mnotice\u001b[0m\u001b[1;39;49m]\u001b[0m\u001b[39;49m To update, run: \u001b[0m\u001b[32;49mpip install --upgrade pip\u001b[0m\n"
     ]
    }
   ],
   "source": [
    "!pip install -q einops==0.7.0 langchain==0.1.9 pypdf==4.0.2 pymilvus==2.3.6 sentence-transformers==2.4.0 python-docx unstructured[docx,pptx] python-pptx docx2txt"
   ]
  },
  {
   "cell_type": "code",
   "execution_count": null,
   "id": "bca2df80-d691-45a9-9ade-95fb3fa988e4",
   "metadata": {},
   "outputs": [],
   "source": []
  },
  {
   "cell_type": "code",
   "execution_count": 4,
   "id": "600cd763-6ecc-4c77-89c0-47108c31c44e",
   "metadata": {
    "tags": []
   },
   "outputs": [],
   "source": [
    "import requests\n",
    "import os\n",
    "from langchain.document_loaders import PyPDFDirectoryLoader, WebBaseLoader, Docx2txtLoader\n",
    "from langchain_community.document_loaders import UnstructuredPowerPointLoader, PyPDFLoader\n",
    "from langchain.text_splitter import RecursiveCharacterTextSplitter\n",
    "from langchain.embeddings.huggingface import HuggingFaceEmbeddings\n",
    "from langchain_community.vectorstores import Milvus\n",
    "import docx2txt"
   ]
  },
  {
   "cell_type": "markdown",
   "id": "1a82063d-6153-4812-8977-042241736b53",
   "metadata": {},
   "source": [
    "### Base parameters, the Milvus connection info"
   ]
  },
  {
   "cell_type": "code",
   "execution_count": 5,
   "id": "417ed4a4-9418-4f48-bebd-ef0ea11ae434",
   "metadata": {
    "tags": []
   },
   "outputs": [],
   "source": [
    "MILVUS_HOST = \"vectordb-milvus\"\n",
    "MILVUS_PORT = 19530\n",
    "MILVUS_USERNAME = \"root\"\n",
    "MILVUS_PASSWORD = \"Milvus\"\n",
    "MILVUS_COLLECTION = \"redhat_notes\""
   ]
  },
  {
   "cell_type": "markdown",
   "id": "f68f6785-480e-4519-be4f-8e1738dba4ca",
   "metadata": {},
   "source": [
    "## Initial index creation and document ingestion"
   ]
  },
  {
   "cell_type": "markdown",
   "id": "ad0629c6-addf-4d1f-badc-1765a0e1808a",
   "metadata": {
    "tags": []
   },
   "source": [
    "#### Load pfs"
   ]
  },
  {
   "cell_type": "code",
   "execution_count": 6,
   "id": "3b96f15a-7dc3-4143-afe3-44e71a2304a5",
   "metadata": {
    "tags": []
   },
   "outputs": [
    {
     "name": "stderr",
     "output_type": "stream",
     "text": [
      "could not convert string to float: '0.00-10498687' : FloatObject (b'0.00-10498687') invalid; use 0.0 instead\n",
      "could not convert string to float: '0.00-10498687' : FloatObject (b'0.00-10498687') invalid; use 0.0 instead\n",
      "could not convert string to float: '0.00-10498687' : FloatObject (b'0.00-10498687') invalid; use 0.0 instead\n",
      "could not convert string to float: '0.00-10498687' : FloatObject (b'0.00-10498687') invalid; use 0.0 instead\n",
      "could not convert string to float: '0.00-10498687' : FloatObject (b'0.00-10498687') invalid; use 0.0 instead\n",
      "could not convert string to float: '0.00-10498687' : FloatObject (b'0.00-10498687') invalid; use 0.0 instead\n",
      "could not convert string to float: '0.00-10498687' : FloatObject (b'0.00-10498687') invalid; use 0.0 instead\n",
      "could not convert string to float: '0.00-10498687' : FloatObject (b'0.00-10498687') invalid; use 0.0 instead\n",
      "could not convert string to float: '0.00-10498687' : FloatObject (b'0.00-10498687') invalid; use 0.0 instead\n",
      "could not convert string to float: '0.00-10498687' : FloatObject (b'0.00-10498687') invalid; use 0.0 instead\n",
      "could not convert string to float: '0.00-10498687' : FloatObject (b'0.00-10498687') invalid; use 0.0 instead\n",
      "could not convert string to float: '0.00-10498687' : FloatObject (b'0.00-10498687') invalid; use 0.0 instead\n",
      "could not convert string to float: '0.00-10498687' : FloatObject (b'0.00-10498687') invalid; use 0.0 instead\n",
      "could not convert string to float: '0.00-10498687' : FloatObject (b'0.00-10498687') invalid; use 0.0 instead\n",
      "could not convert string to float: '0.00-10498687' : FloatObject (b'0.00-10498687') invalid; use 0.0 instead\n",
      "could not convert string to float: '0.00-10498687' : FloatObject (b'0.00-10498687') invalid; use 0.0 instead\n",
      "could not convert string to float: '0.00-10498687' : FloatObject (b'0.00-10498687') invalid; use 0.0 instead\n",
      "could not convert string to float: '0.00-10498687' : FloatObject (b'0.00-10498687') invalid; use 0.0 instead\n",
      "could not convert string to float: '0.00-10498687' : FloatObject (b'0.00-10498687') invalid; use 0.0 instead\n",
      "could not convert string to float: '0.00-10498687' : FloatObject (b'0.00-10498687') invalid; use 0.0 instead\n",
      "could not convert string to float: '0.00-10498687' : FloatObject (b'0.00-10498687') invalid; use 0.0 instead\n",
      "could not convert string to float: '0.00-10498687' : FloatObject (b'0.00-10498687') invalid; use 0.0 instead\n",
      "could not convert string to float: '0.00-10498687' : FloatObject (b'0.00-10498687') invalid; use 0.0 instead\n",
      "could not convert string to float: '0.00-10498687' : FloatObject (b'0.00-10498687') invalid; use 0.0 instead\n",
      "could not convert string to float: '0.00-43859644' : FloatObject (b'0.00-43859644') invalid; use 0.0 instead\n",
      "could not convert string to float: '0.00-40485826' : FloatObject (b'0.00-40485826') invalid; use 0.0 instead\n",
      "could not convert string to float: '0.00-17430713' : FloatObject (b'0.00-17430713') invalid; use 0.0 instead\n",
      "could not convert string to float: '0.000000000-2910383' : FloatObject (b'0.000000000-2910383') invalid; use 0.0 instead\n",
      "could not convert string to float: '0.000000000-72759576' : FloatObject (b'0.000000000-72759576') invalid; use 0.0 instead\n",
      "could not convert string to float: '0.000000000-2910383' : FloatObject (b'0.000000000-2910383') invalid; use 0.0 instead\n",
      "could not convert string to float: '0.000000000-72759576' : FloatObject (b'0.000000000-72759576') invalid; use 0.0 instead\n",
      "could not convert string to float: '0.000000000-2910383' : FloatObject (b'0.000000000-2910383') invalid; use 0.0 instead\n",
      "could not convert string to float: '0.000000000-72759576' : FloatObject (b'0.000000000-72759576') invalid; use 0.0 instead\n",
      "could not convert string to float: '0.00-10787402' : FloatObject (b'0.00-10787402') invalid; use 0.0 instead\n",
      "could not convert string to float: '0.00-30515715' : FloatObject (b'0.00-30515715') invalid; use 0.0 instead\n",
      "EOF marker not found\n"
     ]
    },
    {
     "name": "stdout",
     "output_type": "stream",
     "text": [
      "Error loading file 'Red Hat ACS-technicalDeepDive-v3.72.pdf': Stream has ended unexpectedly\n"
     ]
    },
    {
     "name": "stderr",
     "output_type": "stream",
     "text": [
      "could not convert string to float: '0.00-10' : FloatObject (b'0.00-10') invalid; use 0.0 instead\n",
      "could not convert string to float: '0.00-10' : FloatObject (b'0.00-10') invalid; use 0.0 instead\n",
      "could not convert string to float: '0.00-10' : FloatObject (b'0.00-10') invalid; use 0.0 instead\n",
      "could not convert string to float: '0.00-10' : FloatObject (b'0.00-10') invalid; use 0.0 instead\n",
      "could not convert string to float: '0.00-10' : FloatObject (b'0.00-10') invalid; use 0.0 instead\n",
      "could not convert string to float: '0.00-10' : FloatObject (b'0.00-10') invalid; use 0.0 instead\n",
      "could not convert string to float: '0.00-10' : FloatObject (b'0.00-10') invalid; use 0.0 instead\n",
      "could not convert string to float: '0.00-10' : FloatObject (b'0.00-10') invalid; use 0.0 instead\n",
      "could not convert string to float: '0.00-10' : FloatObject (b'0.00-10') invalid; use 0.0 instead\n",
      "could not convert string to float: '0.00-10' : FloatObject (b'0.00-10') invalid; use 0.0 instead\n",
      "could not convert string to float: '0.00-10' : FloatObject (b'0.00-10') invalid; use 0.0 instead\n",
      "could not convert string to float: '0.00-10' : FloatObject (b'0.00-10') invalid; use 0.0 instead\n",
      "could not convert string to float: '0.00-10' : FloatObject (b'0.00-10') invalid; use 0.0 instead\n",
      "could not convert string to float: '0.00-10' : FloatObject (b'0.00-10') invalid; use 0.0 instead\n",
      "could not convert string to float: '0.00-10' : FloatObject (b'0.00-10') invalid; use 0.0 instead\n",
      "could not convert string to float: '0.00-10' : FloatObject (b'0.00-10') invalid; use 0.0 instead\n",
      "could not convert string to float: '0.00-10' : FloatObject (b'0.00-10') invalid; use 0.0 instead\n",
      "could not convert string to float: '0.00-10' : FloatObject (b'0.00-10') invalid; use 0.0 instead\n",
      "could not convert string to float: '0.00-10' : FloatObject (b'0.00-10') invalid; use 0.0 instead\n",
      "could not convert string to float: '0.00-10' : FloatObject (b'0.00-10') invalid; use 0.0 instead\n",
      "could not convert string to float: '0.00-10' : FloatObject (b'0.00-10') invalid; use 0.0 instead\n",
      "could not convert string to float: '0.00-10' : FloatObject (b'0.00-10') invalid; use 0.0 instead\n",
      "could not convert string to float: '0.00-10' : FloatObject (b'0.00-10') invalid; use 0.0 instead\n",
      "could not convert string to float: '0.00-10' : FloatObject (b'0.00-10') invalid; use 0.0 instead\n",
      "could not convert string to float: '0.00-10' : FloatObject (b'0.00-10') invalid; use 0.0 instead\n",
      "could not convert string to float: '0.00-10' : FloatObject (b'0.00-10') invalid; use 0.0 instead\n"
     ]
    },
    {
     "name": "stdout",
     "output_type": "stream",
     "text": [
      "Successfully loaded '406' pdfs\n"
     ]
    }
   ],
   "source": [
    "pdf_folder_path = \"../../knowledge_base_data\"\n",
    "# Create a list to store the loaded data from all files\n",
    "all_data_pdfs = []\n",
    "success_counter = 0\n",
    "\n",
    "# Iterate over all files in the directory\n",
    "for filename in os.listdir(pdf_folder_path):\n",
    "    if filename.endswith(\".pdf\"):\n",
    "        file_path = os.path.join(pdf_folder_path, filename)\n",
    "        try:\n",
    "            loader = PyPDFLoader(file_path)\n",
    "            data = loader.load()\n",
    "            all_data_pdfs.append(data)\n",
    "            success_counter += 1\n",
    "        except Exception as e:\n",
    "            print(f\"Error loading file '{filename}': {e}\")\n",
    "            continue  # Skip to the next iteration\n",
    "print(f\"Successfully loaded '{success_counter}' pdfs\")"
   ]
  },
  {
   "cell_type": "code",
   "execution_count": 10,
   "id": "01776a1f-ab58-4581-a9b0-9531a15053fa",
   "metadata": {
    "tags": []
   },
   "outputs": [
    {
     "data": {
      "text/plain": [
       "[Document(page_content='', metadata={'source': '../../knowledge_base_data/Copy of Red Hat Appendix 2 ISV Program Appendix.pdf', 'page': 0}),\n",
       " Document(page_content='', metadata={'source': '../../knowledge_base_data/Copy of Red Hat Appendix 2 ISV Program Appendix.pdf', 'page': 1}),\n",
       " Document(page_content='', metadata={'source': '../../knowledge_base_data/Copy of Red Hat Appendix 2 ISV Program Appendix.pdf', 'page': 2}),\n",
       " Document(page_content='', metadata={'source': '../../knowledge_base_data/Copy of Red Hat Appendix 2 ISV Program Appendix.pdf', 'page': 3}),\n",
       " Document(page_content='', metadata={'source': '../../knowledge_base_data/Copy of Red Hat Appendix 2 ISV Program Appendix.pdf', 'page': 4}),\n",
       " Document(page_content='', metadata={'source': '../../knowledge_base_data/Copy of Red Hat Appendix 2 ISV Program Appendix.pdf', 'page': 5}),\n",
       " Document(page_content='', metadata={'source': '../../knowledge_base_data/Copy of Red Hat Appendix 2 ISV Program Appendix.pdf', 'page': 6}),\n",
       " Document(page_content='', metadata={'source': '../../knowledge_base_data/Copy of Red Hat Appendix 2 ISV Program Appendix.pdf', 'page': 7}),\n",
       " Document(page_content='', metadata={'source': '../../knowledge_base_data/Copy of Red Hat Appendix 2 ISV Program Appendix.pdf', 'page': 8}),\n",
       " Document(page_content='', metadata={'source': '../../knowledge_base_data/Copy of Red Hat Appendix 2 ISV Program Appendix.pdf', 'page': 9}),\n",
       " Document(page_content='', metadata={'source': '../../knowledge_base_data/Copy of Red Hat Appendix 2 ISV Program Appendix.pdf', 'page': 10}),\n",
       " Document(page_content='', metadata={'source': '../../knowledge_base_data/Copy of Red Hat Appendix 2 ISV Program Appendix.pdf', 'page': 11}),\n",
       " Document(page_content='', metadata={'source': '../../knowledge_base_data/Copy of Red Hat Appendix 2 ISV Program Appendix.pdf', 'page': 12}),\n",
       " Document(page_content='', metadata={'source': '../../knowledge_base_data/Copy of Red Hat Appendix 2 ISV Program Appendix.pdf', 'page': 13}),\n",
       " Document(page_content='', metadata={'source': '../../knowledge_base_data/Copy of Red Hat Appendix 2 ISV Program Appendix.pdf', 'page': 14}),\n",
       " Document(page_content='', metadata={'source': '../../knowledge_base_data/Copy of Red Hat Appendix 2 ISV Program Appendix.pdf', 'page': 15}),\n",
       " Document(page_content='', metadata={'source': '../../knowledge_base_data/Copy of Red Hat Appendix 2 ISV Program Appendix.pdf', 'page': 16}),\n",
       " Document(page_content='', metadata={'source': '../../knowledge_base_data/Copy of Red Hat Appendix 2 ISV Program Appendix.pdf', 'page': 17})]"
      ]
     },
     "execution_count": 10,
     "metadata": {},
     "output_type": "execute_result"
    }
   ],
   "source": [
    "all_data_pdfs[0]"
   ]
  },
  {
   "cell_type": "code",
   "execution_count": 8,
   "id": "e3208731-1a85-489e-89aa-38a4b1478884",
   "metadata": {},
   "outputs": [],
   "source": [
    "docs = []\n",
    "for sublist_pdfs in all_data_pdfs:\n",
    "    for subitem in sublist_pdfs:\n",
    "        docs.append(subitem)"
   ]
  },
  {
   "cell_type": "code",
   "execution_count": 13,
   "id": "9c7fddbf-1888-42d3-a8b1-07d6f06066f2",
   "metadata": {
    "tags": []
   },
   "outputs": [
    {
     "data": {
      "text/plain": [
       "8596"
      ]
     },
     "execution_count": 13,
     "metadata": {},
     "output_type": "execute_result"
    }
   ],
   "source": [
    "len(docs)"
   ]
  },
  {
   "cell_type": "markdown",
   "id": "f8cff5f7-c509-48db-90b5-e15815b8b530",
   "metadata": {},
   "source": [
    "#### Load docx Files"
   ]
  },
  {
   "cell_type": "code",
   "execution_count": 14,
   "id": "af4074d4-eff4-45b2-902d-ec8c075a83ef",
   "metadata": {
    "tags": []
   },
   "outputs": [
    {
     "name": "stdout",
     "output_type": "stream",
     "text": [
      "Successfully loaded '410' documents\n"
     ]
    }
   ],
   "source": [
    "docx_folder_path = \"../../knowledge_base_data\"\n",
    "\n",
    "# Create a list to store the loaded data from all files\n",
    "all_data_docx = []\n",
    "success_counter = 0\n",
    "\n",
    "# Iterate over all files in the directory\n",
    "for filename in os.listdir(docx_folder_path):\n",
    "    if filename.endswith(\".docx\"):\n",
    "        file_path = os.path.join(docx_folder_path, filename)\n",
    "        try:\n",
    "            loader = Docx2txtLoader(file_path)\n",
    "            data = loader.load()\n",
    "            all_data_docx.append(data)\n",
    "            success_counter += 1\n",
    "        except Exception as e:\n",
    "            print(f\"Error loading file '{filename}': {e}\")\n",
    "            continue  # Skip to the next iteration\n",
    "print(f\"Successfully loaded '{success_counter}' documents\")"
   ]
  },
  {
   "cell_type": "code",
   "execution_count": 15,
   "id": "829ccb30-5d51-4c20-8f4e-66cae542d833",
   "metadata": {
    "tags": []
   },
   "outputs": [],
   "source": [
    "for sublist_docx in all_data_docx:\n",
    "    for subitem in sublist_docx:\n",
    "        docs.append(subitem)"
   ]
  },
  {
   "cell_type": "code",
   "execution_count": 16,
   "id": "4a1ad0da-62ea-4447-aa32-be94a8de736b",
   "metadata": {
    "tags": []
   },
   "outputs": [
    {
     "data": {
      "text/plain": [
       "9006"
      ]
     },
     "execution_count": 16,
     "metadata": {},
     "output_type": "execute_result"
    }
   ],
   "source": [
    "len(docs)"
   ]
  },
  {
   "cell_type": "markdown",
   "id": "b0c31834-34e0-4559-928a-addafdeb8df7",
   "metadata": {},
   "source": [
    "#### Load pptx files"
   ]
  },
  {
   "cell_type": "code",
   "execution_count": 17,
   "id": "2dc86434-36e5-4630-a1f8-0f696febb0a3",
   "metadata": {
    "tags": []
   },
   "outputs": [
    {
     "name": "stdout",
     "output_type": "stream",
     "text": [
      "Error loading file 'An open source approach to shipping VM based Siemens solutions_.pptx': invalid character in attribute value, line 1, column 1014 (<string>, line 1)\n",
      "Error loading file 'RH Edge Computing for Siemens Energy January 2023.pptx': invalid character in attribute value, line 1, column 1014 (<string>, line 1)\n",
      "Error loading file 'Siemens DEMA and Red Hat.pptx': invalid character in attribute value, line 1, column 1014 (<string>, line 1)\n",
      "Error loading file 'Siemens OSS Days 2023.pptx': invalid character in attribute value, line 1, column 1014 (<string>, line 1)\n",
      "Successfully loaded '241' documents\n"
     ]
    }
   ],
   "source": [
    "pptx_folder_path = \"../../knowledge_base_data\"\n",
    "\n",
    "# Create a list to store the loaded data from all files\n",
    "all_data_pptx = []\n",
    "success_counter = 0\n",
    "\n",
    "# Iterate over all files in the directory\n",
    "for filename in os.listdir(pptx_folder_path):\n",
    "    if filename.endswith(\".pptx\"):\n",
    "        file_path = os.path.join(pptx_folder_path, filename)\n",
    "        try:\n",
    "            loader = UnstructuredPowerPointLoader(file_path)\n",
    "            data = loader.load()\n",
    "            all_data_pptx.append(data)\n",
    "            success_counter += 1\n",
    "        except Exception as e:\n",
    "            print(f\"Error loading file '{filename}': {e}\")\n",
    "            continue  # Skip to the next iteration\n",
    "print(f\"Successfully loaded '{success_counter}' documents\")"
   ]
  },
  {
   "cell_type": "code",
   "execution_count": 18,
   "id": "21fa0b04-05fd-48dd-9b79-65c565633744",
   "metadata": {},
   "outputs": [],
   "source": [
    "for sublist_pptx in all_data_pptx:\n",
    "    for subitem in sublist_pptx:\n",
    "        docs.append(subitem)"
   ]
  },
  {
   "cell_type": "code",
   "execution_count": 19,
   "id": "0bb23976-cfdc-40f8-9f72-a0b10d5b86c4",
   "metadata": {},
   "outputs": [
    {
     "name": "stdout",
     "output_type": "stream",
     "text": [
      "Loaded '9247' files in total\n"
     ]
    }
   ],
   "source": [
    "print(f\"Loaded '{len(docs)}' files in total\")"
   ]
  },
  {
   "cell_type": "markdown",
   "id": "cde7ed3a-0530-47a1-95c2-22db6c782a95",
   "metadata": {},
   "source": [
    "#### Inject metadata"
   ]
  },
  {
   "cell_type": "markdown",
   "id": "157ddd29-54b3-474a-9b10-2d274bc3254f",
   "metadata": {},
   "source": [
    "#### Merge both types of docs"
   ]
  },
  {
   "cell_type": "markdown",
   "id": "4198fe0a-38bf-4cd4-af7d-35b41c645edd",
   "metadata": {},
   "source": [
    "#### Split documents into chunks with some overlap"
   ]
  },
  {
   "cell_type": "code",
   "execution_count": 20,
   "id": "edba4a08-2194-4df1-9091-6f2b596757a1",
   "metadata": {
    "tags": []
   },
   "outputs": [
    {
     "data": {
      "text/plain": [
       "Document(page_content='(https://access.redhat.com/solutions/5181471). For clarity, NFR subscriptions are made \\navailable for the purposes of (a) integration testing, (b) certification,  (c) recreating End User \\nissues, (d) troubleshooting and (e) training Siemens and End User’s personnel with respect to \\nthe Red Hat Products contained in the Integrated Products.  \\n \\n3.4. Embedded Subscriptions  \\n \\nDuring the Term of the Program and in consideration for the Embedded Subscription fees paid \\nto Red Hat or an authorized Red Hat channel partner for each Unit of Software (as defined \\nbelow and/or in an Embedded Order Form) and for active Embedded Subscriptions, (a) Red Hat \\nwill provide Siemens with access to  the Software, access to the Updates and the Partner \\nSupport (“ Embedded Subscription ”) and (b) Siemens may (i) distribute the Software as an \\nIntegrated Product to its end customers (“ End Users ”) and (ii) distribute the Updates, if and', metadata={'source': '../../knowledge_base_data/Amendment to Partner Agreement with Appendix4_signed.pdf', 'page': 5})"
      ]
     },
     "execution_count": 20,
     "metadata": {},
     "output_type": "execute_result"
    }
   ],
   "source": [
    "text_splitter = RecursiveCharacterTextSplitter(chunk_size=1024,\n",
    "                                               chunk_overlap=120)\n",
    "all_splits = text_splitter.split_documents(docs)\n",
    "all_splits[15]"
   ]
  },
  {
   "cell_type": "markdown",
   "id": "7ae7eae2-c670-4eb5-803b-b4d591fa83db",
   "metadata": {},
   "source": [
    "len(docs)len(docs)#### Create the index and ingest the documents"
   ]
  },
  {
   "cell_type": "code",
   "execution_count": 21,
   "id": "bbb6a3e3-5ccd-441e-b80d-427555d9e9f6",
   "metadata": {
    "tags": []
   },
   "outputs": [
    {
     "name": "stderr",
     "output_type": "stream",
     "text": [
      "You try to use a model that was created with version 2.4.0.dev0, however, your version is 2.4.0. This might cause unexpected behavior or errors. In that case, try to update to the latest version.\n",
      "\n",
      "\n",
      "\n",
      "/opt/app-root/lib64/python3.9/site-packages/huggingface_hub/file_download.py:1132: FutureWarning: `resume_download` is deprecated and will be removed in version 1.0.0. Downloads always resume when possible. If you want to force a new download, use `force_download=True`.\n",
      "  warnings.warn(\n",
      "/opt/app-root/lib64/python3.9/site-packages/huggingface_hub/file_download.py:1132: FutureWarning: `resume_download` is deprecated and will be removed in version 1.0.0. Downloads always resume when possible. If you want to force a new download, use `force_download=True`.\n",
      "  warnings.warn(\n",
      "<All keys matched successfully>\n"
     ]
    }
   ],
   "source": [
    "# If you don't want to use a GPU, you can remove the 'device': 'cuda' argument\n",
    "# model_kwargs = {'trust_remote_code': True, 'device': 'cuda'}\n",
    "model_kwargs = {'trust_remote_code': True, 'device': 'cuda'}\n",
    "embeddings = HuggingFaceEmbeddings(\n",
    "    model_name=\"nomic-ai/nomic-embed-text-v1\",\n",
    "    model_kwargs=model_kwargs,\n",
    "    show_progress=True\n",
    ")"
   ]
  },
  {
   "cell_type": "code",
   "execution_count": 22,
   "id": "6230dde0-251e-4b32-ba7b-67ba65fde0ca",
   "metadata": {
    "tags": []
   },
   "outputs": [],
   "source": [
    "db = Milvus(\n",
    "    embedding_function=embeddings,\n",
    "    connection_args={\"host\": MILVUS_HOST, \"port\": MILVUS_PORT, \"user\": MILVUS_USERNAME, \"password\": MILVUS_PASSWORD},\n",
    "    collection_name=MILVUS_COLLECTION,\n",
    "    metadata_field=\"metadata\",\n",
    "    text_field=\"page_content\",\n",
    "    auto_id=True,\n",
    "    drop_old=True\n",
    "    )"
   ]
  },
  {
   "cell_type": "code",
   "execution_count": 24,
   "id": "b6bf425b-dffd-4f42-9537-49d41383182d",
   "metadata": {
    "tags": []
   },
   "outputs": [
    {
     "data": {
      "application/vnd.jupyter.widget-view+json": {
       "model_id": "e4f09b506495448f9fd81f90d0900932",
       "version_major": 2,
       "version_minor": 0
      },
      "text/plain": [
       "Batches:   0%|          | 0/755 [00:00<?, ?it/s]"
      ]
     },
     "metadata": {},
     "output_type": "display_data"
    },
    {
     "name": "stderr",
     "output_type": "stream",
     "text": [
      "RPC error: [batch_insert], <DataNotMatchException: (code=1, message=The Input data type is inconsistent with defined schema, please check it.)>, <Time:{'RPC start': '2024-05-07 10:42:30.482060', 'RPC error': '2024-05-07 10:42:30.483596'}>\n",
      "Failed to insert batch starting at entity: 15000/24138\n"
     ]
    },
    {
     "ename": "DataNotMatchException",
     "evalue": "<DataNotMatchException: (code=1, message=The Input data type is inconsistent with defined schema, please check it.)>",
     "output_type": "error",
     "traceback": [
      "\u001b[0;31m---------------------------------------------------------------------------\u001b[0m",
      "\u001b[0;31mDataNotMatchException\u001b[0m                     Traceback (most recent call last)",
      "    \u001b[0;31m[... skipping hidden 1 frame]\u001b[0m\n",
      "Cell \u001b[0;32mIn[24], line 1\u001b[0m\n\u001b[0;32m----> 1\u001b[0m \u001b[43mdb\u001b[49m\u001b[38;5;241;43m.\u001b[39;49m\u001b[43madd_documents\u001b[49m\u001b[43m(\u001b[49m\u001b[43mall_splits\u001b[49m\u001b[43m)\u001b[49m\n",
      "File \u001b[0;32m/opt/app-root/lib64/python3.9/site-packages/langchain_core/vectorstores.py:138\u001b[0m, in \u001b[0;36mVectorStore.add_documents\u001b[0;34m(self, documents, **kwargs)\u001b[0m\n\u001b[1;32m    137\u001b[0m metadatas \u001b[38;5;241m=\u001b[39m [doc\u001b[38;5;241m.\u001b[39mmetadata \u001b[38;5;28;01mfor\u001b[39;00m doc \u001b[38;5;129;01min\u001b[39;00m documents]\n\u001b[0;32m--> 138\u001b[0m \u001b[38;5;28;01mreturn\u001b[39;00m \u001b[38;5;28;43mself\u001b[39;49m\u001b[38;5;241;43m.\u001b[39;49m\u001b[43madd_texts\u001b[49m\u001b[43m(\u001b[49m\u001b[43mtexts\u001b[49m\u001b[43m,\u001b[49m\u001b[43m \u001b[49m\u001b[43mmetadatas\u001b[49m\u001b[43m,\u001b[49m\u001b[43m \u001b[49m\u001b[38;5;241;43m*\u001b[39;49m\u001b[38;5;241;43m*\u001b[39;49m\u001b[43mkwargs\u001b[49m\u001b[43m)\u001b[49m\n",
      "File \u001b[0;32m/opt/app-root/lib64/python3.9/site-packages/langchain_community/vectorstores/milvus.py:626\u001b[0m, in \u001b[0;36mMilvus.add_texts\u001b[0;34m(self, texts, metadatas, timeout, batch_size, ids, **kwargs)\u001b[0m\n\u001b[1;32m    623\u001b[0m         logger\u001b[38;5;241m.\u001b[39merror(\n\u001b[1;32m    624\u001b[0m             \u001b[38;5;124m\"\u001b[39m\u001b[38;5;124mFailed to insert batch starting at entity: \u001b[39m\u001b[38;5;132;01m%s\u001b[39;00m\u001b[38;5;124m/\u001b[39m\u001b[38;5;132;01m%s\u001b[39;00m\u001b[38;5;124m\"\u001b[39m, i, total_count\n\u001b[1;32m    625\u001b[0m         )\n\u001b[0;32m--> 626\u001b[0m         \u001b[38;5;28;01mraise\u001b[39;00m e\n\u001b[1;32m    627\u001b[0m \u001b[38;5;28;01mreturn\u001b[39;00m pks\n",
      "File \u001b[0;32m/opt/app-root/lib64/python3.9/site-packages/langchain_community/vectorstores/milvus.py:620\u001b[0m, in \u001b[0;36mMilvus.add_texts\u001b[0;34m(self, texts, metadatas, timeout, batch_size, ids, **kwargs)\u001b[0m\n\u001b[1;32m    619\u001b[0m timeout \u001b[38;5;241m=\u001b[39m \u001b[38;5;28mself\u001b[39m\u001b[38;5;241m.\u001b[39mtimeout \u001b[38;5;129;01mor\u001b[39;00m timeout\n\u001b[0;32m--> 620\u001b[0m res \u001b[38;5;241m=\u001b[39m \u001b[38;5;28;43mself\u001b[39;49m\u001b[38;5;241;43m.\u001b[39;49m\u001b[43mcol\u001b[49m\u001b[38;5;241;43m.\u001b[39;49m\u001b[43minsert\u001b[49m\u001b[43m(\u001b[49m\u001b[43minsert_list\u001b[49m\u001b[43m,\u001b[49m\u001b[43m \u001b[49m\u001b[43mtimeout\u001b[49m\u001b[38;5;241;43m=\u001b[39;49m\u001b[43mtimeout\u001b[49m\u001b[43m,\u001b[49m\u001b[43m \u001b[49m\u001b[38;5;241;43m*\u001b[39;49m\u001b[38;5;241;43m*\u001b[39;49m\u001b[43mkwargs\u001b[49m\u001b[43m)\u001b[49m\n\u001b[1;32m    621\u001b[0m pks\u001b[38;5;241m.\u001b[39mextend(res\u001b[38;5;241m.\u001b[39mprimary_keys)\n",
      "File \u001b[0;32m/opt/app-root/lib64/python3.9/site-packages/pymilvus/orm/collection.py:497\u001b[0m, in \u001b[0;36mCollection.insert\u001b[0;34m(self, data, partition_name, timeout, **kwargs)\u001b[0m\n\u001b[1;32m    496\u001b[0m entities \u001b[38;5;241m=\u001b[39m Prepare\u001b[38;5;241m.\u001b[39mprepare_insert_data(data, \u001b[38;5;28mself\u001b[39m\u001b[38;5;241m.\u001b[39m_schema)\n\u001b[0;32m--> 497\u001b[0m res \u001b[38;5;241m=\u001b[39m \u001b[43mconn\u001b[49m\u001b[38;5;241;43m.\u001b[39;49m\u001b[43mbatch_insert\u001b[49m\u001b[43m(\u001b[49m\n\u001b[1;32m    498\u001b[0m \u001b[43m    \u001b[49m\u001b[38;5;28;43mself\u001b[39;49m\u001b[38;5;241;43m.\u001b[39;49m\u001b[43m_name\u001b[49m\u001b[43m,\u001b[49m\n\u001b[1;32m    499\u001b[0m \u001b[43m    \u001b[49m\u001b[43mentities\u001b[49m\u001b[43m,\u001b[49m\n\u001b[1;32m    500\u001b[0m \u001b[43m    \u001b[49m\u001b[43mpartition_name\u001b[49m\u001b[43m,\u001b[49m\n\u001b[1;32m    501\u001b[0m \u001b[43m    \u001b[49m\u001b[43mtimeout\u001b[49m\u001b[38;5;241;43m=\u001b[39;49m\u001b[43mtimeout\u001b[49m\u001b[43m,\u001b[49m\n\u001b[1;32m    502\u001b[0m \u001b[43m    \u001b[49m\u001b[43mschema\u001b[49m\u001b[38;5;241;43m=\u001b[39;49m\u001b[38;5;28;43mself\u001b[39;49m\u001b[38;5;241;43m.\u001b[39;49m\u001b[43m_schema_dict\u001b[49m\u001b[43m,\u001b[49m\n\u001b[1;32m    503\u001b[0m \u001b[43m    \u001b[49m\u001b[38;5;241;43m*\u001b[39;49m\u001b[38;5;241;43m*\u001b[39;49m\u001b[43mkwargs\u001b[49m\u001b[43m,\u001b[49m\n\u001b[1;32m    504\u001b[0m \u001b[43m\u001b[49m\u001b[43m)\u001b[49m\n\u001b[1;32m    505\u001b[0m \u001b[38;5;28;01mif\u001b[39;00m kwargs\u001b[38;5;241m.\u001b[39mget(\u001b[38;5;124m\"\u001b[39m\u001b[38;5;124m_async\u001b[39m\u001b[38;5;124m\"\u001b[39m, \u001b[38;5;28;01mFalse\u001b[39;00m):\n",
      "File \u001b[0;32m/opt/app-root/lib64/python3.9/site-packages/pymilvus/decorators.py:135\u001b[0m, in \u001b[0;36merror_handler.<locals>.wrapper.<locals>.handler\u001b[0;34m(*args, **kwargs)\u001b[0m\n\u001b[1;32m    134\u001b[0m     LOGGER\u001b[38;5;241m.\u001b[39merror(\u001b[38;5;124mf\u001b[39m\u001b[38;5;124m\"\u001b[39m\u001b[38;5;124mRPC error: [\u001b[39m\u001b[38;5;132;01m{\u001b[39;00minner_name\u001b[38;5;132;01m}\u001b[39;00m\u001b[38;5;124m], \u001b[39m\u001b[38;5;132;01m{\u001b[39;00me\u001b[38;5;132;01m}\u001b[39;00m\u001b[38;5;124m, <Time:\u001b[39m\u001b[38;5;132;01m{\u001b[39;00mrecord_dict\u001b[38;5;132;01m}\u001b[39;00m\u001b[38;5;124m>\u001b[39m\u001b[38;5;124m\"\u001b[39m)\n\u001b[0;32m--> 135\u001b[0m     \u001b[38;5;28;01mraise\u001b[39;00m e \u001b[38;5;28;01mfrom\u001b[39;00m \u001b[38;5;21;01me\u001b[39;00m\n\u001b[1;32m    136\u001b[0m \u001b[38;5;28;01mexcept\u001b[39;00m grpc\u001b[38;5;241m.\u001b[39mFutureTimeoutError \u001b[38;5;28;01mas\u001b[39;00m e:\n",
      "File \u001b[0;32m/opt/app-root/lib64/python3.9/site-packages/pymilvus/decorators.py:131\u001b[0m, in \u001b[0;36merror_handler.<locals>.wrapper.<locals>.handler\u001b[0;34m(*args, **kwargs)\u001b[0m\n\u001b[1;32m    130\u001b[0m     record_dict[\u001b[38;5;124m\"\u001b[39m\u001b[38;5;124mRPC start\u001b[39m\u001b[38;5;124m\"\u001b[39m] \u001b[38;5;241m=\u001b[39m \u001b[38;5;28mstr\u001b[39m(datetime\u001b[38;5;241m.\u001b[39mdatetime\u001b[38;5;241m.\u001b[39mnow())\n\u001b[0;32m--> 131\u001b[0m     \u001b[38;5;28;01mreturn\u001b[39;00m \u001b[43mfunc\u001b[49m\u001b[43m(\u001b[49m\u001b[38;5;241;43m*\u001b[39;49m\u001b[43margs\u001b[49m\u001b[43m,\u001b[49m\u001b[43m \u001b[49m\u001b[38;5;241;43m*\u001b[39;49m\u001b[38;5;241;43m*\u001b[39;49m\u001b[43mkwargs\u001b[49m\u001b[43m)\u001b[49m\n\u001b[1;32m    132\u001b[0m \u001b[38;5;28;01mexcept\u001b[39;00m MilvusException \u001b[38;5;28;01mas\u001b[39;00m e:\n",
      "File \u001b[0;32m/opt/app-root/lib64/python3.9/site-packages/pymilvus/decorators.py:170\u001b[0m, in \u001b[0;36mtracing_request.<locals>.wrapper.<locals>.handler\u001b[0;34m(self, *args, **kwargs)\u001b[0m\n\u001b[1;32m    169\u001b[0m     \u001b[38;5;28mself\u001b[39m\u001b[38;5;241m.\u001b[39mset_onetime_request_id(req_id)\n\u001b[0;32m--> 170\u001b[0m \u001b[38;5;28;01mreturn\u001b[39;00m \u001b[43mfunc\u001b[49m\u001b[43m(\u001b[49m\u001b[38;5;28;43mself\u001b[39;49m\u001b[43m,\u001b[49m\u001b[43m \u001b[49m\u001b[38;5;241;43m*\u001b[39;49m\u001b[43margs\u001b[49m\u001b[43m,\u001b[49m\u001b[43m \u001b[49m\u001b[38;5;241;43m*\u001b[39;49m\u001b[38;5;241;43m*\u001b[39;49m\u001b[43mkwargs\u001b[49m\u001b[43m)\u001b[49m\n",
      "File \u001b[0;32m/opt/app-root/lib64/python3.9/site-packages/pymilvus/decorators.py:110\u001b[0m, in \u001b[0;36mretry_on_rpc_failure.<locals>.wrapper.<locals>.handler\u001b[0;34m(*args, **kwargs)\u001b[0m\n\u001b[1;32m    109\u001b[0m     \u001b[38;5;28;01melse\u001b[39;00m:\n\u001b[0;32m--> 110\u001b[0m         \u001b[38;5;28;01mraise\u001b[39;00m e \u001b[38;5;28;01mfrom\u001b[39;00m \u001b[38;5;21;01me\u001b[39;00m\n\u001b[1;32m    111\u001b[0m \u001b[38;5;28;01mexcept\u001b[39;00m \u001b[38;5;167;01mException\u001b[39;00m \u001b[38;5;28;01mas\u001b[39;00m e:\n",
      "File \u001b[0;32m/opt/app-root/lib64/python3.9/site-packages/pymilvus/decorators.py:74\u001b[0m, in \u001b[0;36mretry_on_rpc_failure.<locals>.wrapper.<locals>.handler\u001b[0;34m(*args, **kwargs)\u001b[0m\n\u001b[1;32m     73\u001b[0m \u001b[38;5;28;01mtry\u001b[39;00m:\n\u001b[0;32m---> 74\u001b[0m     \u001b[38;5;28;01mreturn\u001b[39;00m \u001b[43mfunc\u001b[49m\u001b[43m(\u001b[49m\u001b[38;5;241;43m*\u001b[39;49m\u001b[43margs\u001b[49m\u001b[43m,\u001b[49m\u001b[43m \u001b[49m\u001b[38;5;241;43m*\u001b[39;49m\u001b[38;5;241;43m*\u001b[39;49m\u001b[43mkwargs\u001b[49m\u001b[43m)\u001b[49m\n\u001b[1;32m     75\u001b[0m \u001b[38;5;28;01mexcept\u001b[39;00m grpc\u001b[38;5;241m.\u001b[39mRpcError \u001b[38;5;28;01mas\u001b[39;00m e:\n\u001b[1;32m     76\u001b[0m     \u001b[38;5;66;03m# Reference: https://grpc.github.io/grpc/python/grpc.html#grpc-status-code\u001b[39;00m\n",
      "File \u001b[0;32m/opt/app-root/lib64/python3.9/site-packages/pymilvus/client/grpc_handler.py:566\u001b[0m, in \u001b[0;36mGrpcHandler.batch_insert\u001b[0;34m(self, collection_name, entities, partition_name, timeout, **kwargs)\u001b[0m\n\u001b[1;32m    565\u001b[0m         \u001b[38;5;28;01mreturn\u001b[39;00m MutationFuture(\u001b[38;5;28;01mNone\u001b[39;00m, \u001b[38;5;28;01mNone\u001b[39;00m, err)\n\u001b[0;32m--> 566\u001b[0m     \u001b[38;5;28;01mraise\u001b[39;00m err \u001b[38;5;28;01mfrom\u001b[39;00m \u001b[38;5;21;01merr\u001b[39;00m\n\u001b[1;32m    567\u001b[0m \u001b[38;5;28;01melse\u001b[39;00m:\n",
      "File \u001b[0;32m/opt/app-root/lib64/python3.9/site-packages/pymilvus/client/grpc_handler.py:549\u001b[0m, in \u001b[0;36mGrpcHandler.batch_insert\u001b[0;34m(self, collection_name, entities, partition_name, timeout, **kwargs)\u001b[0m\n\u001b[1;32m    548\u001b[0m \u001b[38;5;28;01mtry\u001b[39;00m:\n\u001b[0;32m--> 549\u001b[0m     request \u001b[38;5;241m=\u001b[39m \u001b[38;5;28;43mself\u001b[39;49m\u001b[38;5;241;43m.\u001b[39;49m\u001b[43m_prepare_batch_insert_request\u001b[49m\u001b[43m(\u001b[49m\n\u001b[1;32m    550\u001b[0m \u001b[43m        \u001b[49m\u001b[43mcollection_name\u001b[49m\u001b[43m,\u001b[49m\u001b[43m \u001b[49m\u001b[43mentities\u001b[49m\u001b[43m,\u001b[49m\u001b[43m \u001b[49m\u001b[43mpartition_name\u001b[49m\u001b[43m,\u001b[49m\u001b[43m \u001b[49m\u001b[43mtimeout\u001b[49m\u001b[43m,\u001b[49m\u001b[43m \u001b[49m\u001b[38;5;241;43m*\u001b[39;49m\u001b[38;5;241;43m*\u001b[39;49m\u001b[43mkwargs\u001b[49m\n\u001b[1;32m    551\u001b[0m \u001b[43m    \u001b[49m\u001b[43m)\u001b[49m\n\u001b[1;32m    552\u001b[0m     rf \u001b[38;5;241m=\u001b[39m \u001b[38;5;28mself\u001b[39m\u001b[38;5;241m.\u001b[39m_stub\u001b[38;5;241m.\u001b[39mInsert\u001b[38;5;241m.\u001b[39mfuture(request, timeout\u001b[38;5;241m=\u001b[39mtimeout)\n",
      "File \u001b[0;32m/opt/app-root/lib64/python3.9/site-packages/pymilvus/client/grpc_handler.py:533\u001b[0m, in \u001b[0;36mGrpcHandler._prepare_batch_insert_request\u001b[0;34m(self, collection_name, entities, partition_name, timeout, **kwargs)\u001b[0m\n\u001b[1;32m    528\u001b[0m fields_info \u001b[38;5;241m=\u001b[39m schema[\u001b[38;5;124m\"\u001b[39m\u001b[38;5;124mfields\u001b[39m\u001b[38;5;124m\"\u001b[39m]\n\u001b[1;32m    530\u001b[0m \u001b[38;5;28;01mreturn\u001b[39;00m (\n\u001b[1;32m    531\u001b[0m     param\n\u001b[1;32m    532\u001b[0m     \u001b[38;5;28;01mif\u001b[39;00m param\n\u001b[0;32m--> 533\u001b[0m     \u001b[38;5;28;01melse\u001b[39;00m \u001b[43mPrepare\u001b[49m\u001b[38;5;241;43m.\u001b[39;49m\u001b[43mbatch_insert_param\u001b[49m\u001b[43m(\u001b[49m\u001b[43mcollection_name\u001b[49m\u001b[43m,\u001b[49m\u001b[43m \u001b[49m\u001b[43mentities\u001b[49m\u001b[43m,\u001b[49m\u001b[43m \u001b[49m\u001b[43mpartition_name\u001b[49m\u001b[43m,\u001b[49m\u001b[43m \u001b[49m\u001b[43mfields_info\u001b[49m\u001b[43m)\u001b[49m\n\u001b[1;32m    534\u001b[0m )\n",
      "File \u001b[0;32m/opt/app-root/lib64/python3.9/site-packages/pymilvus/client/prepare.py:525\u001b[0m, in \u001b[0;36mPrepare.batch_insert_param\u001b[0;34m(cls, collection_name, entities, partition_name, fields_info)\u001b[0m\n\u001b[1;32m    523\u001b[0m request \u001b[38;5;241m=\u001b[39m milvus_types\u001b[38;5;241m.\u001b[39mInsertRequest(collection_name\u001b[38;5;241m=\u001b[39mcollection_name, partition_name\u001b[38;5;241m=\u001b[39mtag)\n\u001b[0;32m--> 525\u001b[0m \u001b[38;5;28;01mreturn\u001b[39;00m \u001b[38;5;28;43mcls\u001b[39;49m\u001b[38;5;241;43m.\u001b[39;49m\u001b[43m_parse_batch_request\u001b[49m\u001b[43m(\u001b[49m\u001b[43mrequest\u001b[49m\u001b[43m,\u001b[49m\u001b[43m \u001b[49m\u001b[43mentities\u001b[49m\u001b[43m,\u001b[49m\u001b[43m \u001b[49m\u001b[43mfields_info\u001b[49m\u001b[43m,\u001b[49m\u001b[43m \u001b[49m\u001b[43mlocation\u001b[49m\u001b[43m)\u001b[49m\n",
      "File \u001b[0;32m/opt/app-root/lib64/python3.9/site-packages/pymilvus/client/prepare.py:506\u001b[0m, in \u001b[0;36mPrepare._parse_batch_request\u001b[0;34m(request, entities, fields_info, location)\u001b[0m\n\u001b[1;32m    505\u001b[0m \u001b[38;5;28;01mexcept\u001b[39;00m (\u001b[38;5;167;01mTypeError\u001b[39;00m, \u001b[38;5;167;01mValueError\u001b[39;00m) \u001b[38;5;28;01mas\u001b[39;00m e:\n\u001b[0;32m--> 506\u001b[0m     \u001b[38;5;28;01mraise\u001b[39;00m DataNotMatchException(message\u001b[38;5;241m=\u001b[39mExceptionsMessage\u001b[38;5;241m.\u001b[39mDataTypeInconsistent) \u001b[38;5;28;01mfrom\u001b[39;00m \u001b[38;5;21;01me\u001b[39;00m\n\u001b[1;32m    508\u001b[0m \u001b[38;5;28;01mif\u001b[39;00m pre_field_size \u001b[38;5;241m==\u001b[39m \u001b[38;5;241m0\u001b[39m:\n",
      "\u001b[0;31mDataNotMatchException\u001b[0m: <DataNotMatchException: (code=1, message=The Input data type is inconsistent with defined schema, please check it.)>",
      "\nThe above exception was the direct cause of the following exception:\n",
      "\u001b[0;31mDataNotMatchException\u001b[0m                     Traceback (most recent call last)",
      "    \u001b[0;31m[... skipping hidden 1 frame]\u001b[0m\n",
      "Cell \u001b[0;32mIn[24], line 1\u001b[0m\n\u001b[0;32m----> 1\u001b[0m \u001b[43mdb\u001b[49m\u001b[38;5;241;43m.\u001b[39;49m\u001b[43madd_documents\u001b[49m\u001b[43m(\u001b[49m\u001b[43mall_splits\u001b[49m\u001b[43m)\u001b[49m\n",
      "File \u001b[0;32m/opt/app-root/lib64/python3.9/site-packages/langchain_core/vectorstores.py:138\u001b[0m, in \u001b[0;36mVectorStore.add_documents\u001b[0;34m(self, documents, **kwargs)\u001b[0m\n\u001b[1;32m    137\u001b[0m metadatas \u001b[38;5;241m=\u001b[39m [doc\u001b[38;5;241m.\u001b[39mmetadata \u001b[38;5;28;01mfor\u001b[39;00m doc \u001b[38;5;129;01min\u001b[39;00m documents]\n\u001b[0;32m--> 138\u001b[0m \u001b[38;5;28;01mreturn\u001b[39;00m \u001b[38;5;28;43mself\u001b[39;49m\u001b[38;5;241;43m.\u001b[39;49m\u001b[43madd_texts\u001b[49m\u001b[43m(\u001b[49m\u001b[43mtexts\u001b[49m\u001b[43m,\u001b[49m\u001b[43m \u001b[49m\u001b[43mmetadatas\u001b[49m\u001b[43m,\u001b[49m\u001b[43m \u001b[49m\u001b[38;5;241;43m*\u001b[39;49m\u001b[38;5;241;43m*\u001b[39;49m\u001b[43mkwargs\u001b[49m\u001b[43m)\u001b[49m\n",
      "File \u001b[0;32m/opt/app-root/lib64/python3.9/site-packages/langchain_community/vectorstores/milvus.py:626\u001b[0m, in \u001b[0;36mMilvus.add_texts\u001b[0;34m(self, texts, metadatas, timeout, batch_size, ids, **kwargs)\u001b[0m\n\u001b[1;32m    623\u001b[0m         logger\u001b[38;5;241m.\u001b[39merror(\n\u001b[1;32m    624\u001b[0m             \u001b[38;5;124m\"\u001b[39m\u001b[38;5;124mFailed to insert batch starting at entity: \u001b[39m\u001b[38;5;132;01m%s\u001b[39;00m\u001b[38;5;124m/\u001b[39m\u001b[38;5;132;01m%s\u001b[39;00m\u001b[38;5;124m\"\u001b[39m, i, total_count\n\u001b[1;32m    625\u001b[0m         )\n\u001b[0;32m--> 626\u001b[0m         \u001b[38;5;28;01mraise\u001b[39;00m e\n\u001b[1;32m    627\u001b[0m \u001b[38;5;28;01mreturn\u001b[39;00m pks\n",
      "File \u001b[0;32m/opt/app-root/lib64/python3.9/site-packages/langchain_community/vectorstores/milvus.py:620\u001b[0m, in \u001b[0;36mMilvus.add_texts\u001b[0;34m(self, texts, metadatas, timeout, batch_size, ids, **kwargs)\u001b[0m\n\u001b[1;32m    619\u001b[0m timeout \u001b[38;5;241m=\u001b[39m \u001b[38;5;28mself\u001b[39m\u001b[38;5;241m.\u001b[39mtimeout \u001b[38;5;129;01mor\u001b[39;00m timeout\n\u001b[0;32m--> 620\u001b[0m res \u001b[38;5;241m=\u001b[39m \u001b[38;5;28;43mself\u001b[39;49m\u001b[38;5;241;43m.\u001b[39;49m\u001b[43mcol\u001b[49m\u001b[38;5;241;43m.\u001b[39;49m\u001b[43minsert\u001b[49m\u001b[43m(\u001b[49m\u001b[43minsert_list\u001b[49m\u001b[43m,\u001b[49m\u001b[43m \u001b[49m\u001b[43mtimeout\u001b[49m\u001b[38;5;241;43m=\u001b[39;49m\u001b[43mtimeout\u001b[49m\u001b[43m,\u001b[49m\u001b[43m \u001b[49m\u001b[38;5;241;43m*\u001b[39;49m\u001b[38;5;241;43m*\u001b[39;49m\u001b[43mkwargs\u001b[49m\u001b[43m)\u001b[49m\n\u001b[1;32m    621\u001b[0m pks\u001b[38;5;241m.\u001b[39mextend(res\u001b[38;5;241m.\u001b[39mprimary_keys)\n",
      "File \u001b[0;32m/opt/app-root/lib64/python3.9/site-packages/pymilvus/orm/collection.py:497\u001b[0m, in \u001b[0;36mCollection.insert\u001b[0;34m(self, data, partition_name, timeout, **kwargs)\u001b[0m\n\u001b[1;32m    496\u001b[0m entities \u001b[38;5;241m=\u001b[39m Prepare\u001b[38;5;241m.\u001b[39mprepare_insert_data(data, \u001b[38;5;28mself\u001b[39m\u001b[38;5;241m.\u001b[39m_schema)\n\u001b[0;32m--> 497\u001b[0m res \u001b[38;5;241m=\u001b[39m \u001b[43mconn\u001b[49m\u001b[38;5;241;43m.\u001b[39;49m\u001b[43mbatch_insert\u001b[49m\u001b[43m(\u001b[49m\n\u001b[1;32m    498\u001b[0m \u001b[43m    \u001b[49m\u001b[38;5;28;43mself\u001b[39;49m\u001b[38;5;241;43m.\u001b[39;49m\u001b[43m_name\u001b[49m\u001b[43m,\u001b[49m\n\u001b[1;32m    499\u001b[0m \u001b[43m    \u001b[49m\u001b[43mentities\u001b[49m\u001b[43m,\u001b[49m\n\u001b[1;32m    500\u001b[0m \u001b[43m    \u001b[49m\u001b[43mpartition_name\u001b[49m\u001b[43m,\u001b[49m\n\u001b[1;32m    501\u001b[0m \u001b[43m    \u001b[49m\u001b[43mtimeout\u001b[49m\u001b[38;5;241;43m=\u001b[39;49m\u001b[43mtimeout\u001b[49m\u001b[43m,\u001b[49m\n\u001b[1;32m    502\u001b[0m \u001b[43m    \u001b[49m\u001b[43mschema\u001b[49m\u001b[38;5;241;43m=\u001b[39;49m\u001b[38;5;28;43mself\u001b[39;49m\u001b[38;5;241;43m.\u001b[39;49m\u001b[43m_schema_dict\u001b[49m\u001b[43m,\u001b[49m\n\u001b[1;32m    503\u001b[0m \u001b[43m    \u001b[49m\u001b[38;5;241;43m*\u001b[39;49m\u001b[38;5;241;43m*\u001b[39;49m\u001b[43mkwargs\u001b[49m\u001b[43m,\u001b[49m\n\u001b[1;32m    504\u001b[0m \u001b[43m\u001b[49m\u001b[43m)\u001b[49m\n\u001b[1;32m    505\u001b[0m \u001b[38;5;28;01mif\u001b[39;00m kwargs\u001b[38;5;241m.\u001b[39mget(\u001b[38;5;124m\"\u001b[39m\u001b[38;5;124m_async\u001b[39m\u001b[38;5;124m\"\u001b[39m, \u001b[38;5;28;01mFalse\u001b[39;00m):\n",
      "File \u001b[0;32m/opt/app-root/lib64/python3.9/site-packages/pymilvus/decorators.py:135\u001b[0m, in \u001b[0;36merror_handler.<locals>.wrapper.<locals>.handler\u001b[0;34m(*args, **kwargs)\u001b[0m\n\u001b[1;32m    134\u001b[0m     LOGGER\u001b[38;5;241m.\u001b[39merror(\u001b[38;5;124mf\u001b[39m\u001b[38;5;124m\"\u001b[39m\u001b[38;5;124mRPC error: [\u001b[39m\u001b[38;5;132;01m{\u001b[39;00minner_name\u001b[38;5;132;01m}\u001b[39;00m\u001b[38;5;124m], \u001b[39m\u001b[38;5;132;01m{\u001b[39;00me\u001b[38;5;132;01m}\u001b[39;00m\u001b[38;5;124m, <Time:\u001b[39m\u001b[38;5;132;01m{\u001b[39;00mrecord_dict\u001b[38;5;132;01m}\u001b[39;00m\u001b[38;5;124m>\u001b[39m\u001b[38;5;124m\"\u001b[39m)\n\u001b[0;32m--> 135\u001b[0m     \u001b[38;5;28;01mraise\u001b[39;00m e \u001b[38;5;28;01mfrom\u001b[39;00m \u001b[38;5;21;01me\u001b[39;00m\n\u001b[1;32m    136\u001b[0m \u001b[38;5;28;01mexcept\u001b[39;00m grpc\u001b[38;5;241m.\u001b[39mFutureTimeoutError \u001b[38;5;28;01mas\u001b[39;00m e:\n",
      "File \u001b[0;32m/opt/app-root/lib64/python3.9/site-packages/pymilvus/decorators.py:131\u001b[0m, in \u001b[0;36merror_handler.<locals>.wrapper.<locals>.handler\u001b[0;34m(*args, **kwargs)\u001b[0m\n\u001b[1;32m    130\u001b[0m     record_dict[\u001b[38;5;124m\"\u001b[39m\u001b[38;5;124mRPC start\u001b[39m\u001b[38;5;124m\"\u001b[39m] \u001b[38;5;241m=\u001b[39m \u001b[38;5;28mstr\u001b[39m(datetime\u001b[38;5;241m.\u001b[39mdatetime\u001b[38;5;241m.\u001b[39mnow())\n\u001b[0;32m--> 131\u001b[0m     \u001b[38;5;28;01mreturn\u001b[39;00m \u001b[43mfunc\u001b[49m\u001b[43m(\u001b[49m\u001b[38;5;241;43m*\u001b[39;49m\u001b[43margs\u001b[49m\u001b[43m,\u001b[49m\u001b[43m \u001b[49m\u001b[38;5;241;43m*\u001b[39;49m\u001b[38;5;241;43m*\u001b[39;49m\u001b[43mkwargs\u001b[49m\u001b[43m)\u001b[49m\n\u001b[1;32m    132\u001b[0m \u001b[38;5;28;01mexcept\u001b[39;00m MilvusException \u001b[38;5;28;01mas\u001b[39;00m e:\n",
      "File \u001b[0;32m/opt/app-root/lib64/python3.9/site-packages/pymilvus/decorators.py:170\u001b[0m, in \u001b[0;36mtracing_request.<locals>.wrapper.<locals>.handler\u001b[0;34m(self, *args, **kwargs)\u001b[0m\n\u001b[1;32m    169\u001b[0m     \u001b[38;5;28mself\u001b[39m\u001b[38;5;241m.\u001b[39mset_onetime_request_id(req_id)\n\u001b[0;32m--> 170\u001b[0m \u001b[38;5;28;01mreturn\u001b[39;00m \u001b[43mfunc\u001b[49m\u001b[43m(\u001b[49m\u001b[38;5;28;43mself\u001b[39;49m\u001b[43m,\u001b[49m\u001b[43m \u001b[49m\u001b[38;5;241;43m*\u001b[39;49m\u001b[43margs\u001b[49m\u001b[43m,\u001b[49m\u001b[43m \u001b[49m\u001b[38;5;241;43m*\u001b[39;49m\u001b[38;5;241;43m*\u001b[39;49m\u001b[43mkwargs\u001b[49m\u001b[43m)\u001b[49m\n",
      "File \u001b[0;32m/opt/app-root/lib64/python3.9/site-packages/pymilvus/decorators.py:110\u001b[0m, in \u001b[0;36mretry_on_rpc_failure.<locals>.wrapper.<locals>.handler\u001b[0;34m(*args, **kwargs)\u001b[0m\n\u001b[1;32m    109\u001b[0m     \u001b[38;5;28;01melse\u001b[39;00m:\n\u001b[0;32m--> 110\u001b[0m         \u001b[38;5;28;01mraise\u001b[39;00m e \u001b[38;5;28;01mfrom\u001b[39;00m \u001b[38;5;21;01me\u001b[39;00m\n\u001b[1;32m    111\u001b[0m \u001b[38;5;28;01mexcept\u001b[39;00m \u001b[38;5;167;01mException\u001b[39;00m \u001b[38;5;28;01mas\u001b[39;00m e:\n",
      "File \u001b[0;32m/opt/app-root/lib64/python3.9/site-packages/pymilvus/decorators.py:74\u001b[0m, in \u001b[0;36mretry_on_rpc_failure.<locals>.wrapper.<locals>.handler\u001b[0;34m(*args, **kwargs)\u001b[0m\n\u001b[1;32m     73\u001b[0m \u001b[38;5;28;01mtry\u001b[39;00m:\n\u001b[0;32m---> 74\u001b[0m     \u001b[38;5;28;01mreturn\u001b[39;00m \u001b[43mfunc\u001b[49m\u001b[43m(\u001b[49m\u001b[38;5;241;43m*\u001b[39;49m\u001b[43margs\u001b[49m\u001b[43m,\u001b[49m\u001b[43m \u001b[49m\u001b[38;5;241;43m*\u001b[39;49m\u001b[38;5;241;43m*\u001b[39;49m\u001b[43mkwargs\u001b[49m\u001b[43m)\u001b[49m\n\u001b[1;32m     75\u001b[0m \u001b[38;5;28;01mexcept\u001b[39;00m grpc\u001b[38;5;241m.\u001b[39mRpcError \u001b[38;5;28;01mas\u001b[39;00m e:\n\u001b[1;32m     76\u001b[0m     \u001b[38;5;66;03m# Reference: https://grpc.github.io/grpc/python/grpc.html#grpc-status-code\u001b[39;00m\n",
      "File \u001b[0;32m/opt/app-root/lib64/python3.9/site-packages/pymilvus/client/grpc_handler.py:566\u001b[0m, in \u001b[0;36mGrpcHandler.batch_insert\u001b[0;34m(self, collection_name, entities, partition_name, timeout, **kwargs)\u001b[0m\n\u001b[1;32m    565\u001b[0m         \u001b[38;5;28;01mreturn\u001b[39;00m MutationFuture(\u001b[38;5;28;01mNone\u001b[39;00m, \u001b[38;5;28;01mNone\u001b[39;00m, err)\n\u001b[0;32m--> 566\u001b[0m     \u001b[38;5;28;01mraise\u001b[39;00m err \u001b[38;5;28;01mfrom\u001b[39;00m \u001b[38;5;21;01merr\u001b[39;00m\n\u001b[1;32m    567\u001b[0m \u001b[38;5;28;01melse\u001b[39;00m:\n",
      "File \u001b[0;32m/opt/app-root/lib64/python3.9/site-packages/pymilvus/client/grpc_handler.py:549\u001b[0m, in \u001b[0;36mGrpcHandler.batch_insert\u001b[0;34m(self, collection_name, entities, partition_name, timeout, **kwargs)\u001b[0m\n\u001b[1;32m    548\u001b[0m \u001b[38;5;28;01mtry\u001b[39;00m:\n\u001b[0;32m--> 549\u001b[0m     request \u001b[38;5;241m=\u001b[39m \u001b[38;5;28;43mself\u001b[39;49m\u001b[38;5;241;43m.\u001b[39;49m\u001b[43m_prepare_batch_insert_request\u001b[49m\u001b[43m(\u001b[49m\n\u001b[1;32m    550\u001b[0m \u001b[43m        \u001b[49m\u001b[43mcollection_name\u001b[49m\u001b[43m,\u001b[49m\u001b[43m \u001b[49m\u001b[43mentities\u001b[49m\u001b[43m,\u001b[49m\u001b[43m \u001b[49m\u001b[43mpartition_name\u001b[49m\u001b[43m,\u001b[49m\u001b[43m \u001b[49m\u001b[43mtimeout\u001b[49m\u001b[43m,\u001b[49m\u001b[43m \u001b[49m\u001b[38;5;241;43m*\u001b[39;49m\u001b[38;5;241;43m*\u001b[39;49m\u001b[43mkwargs\u001b[49m\n\u001b[1;32m    551\u001b[0m \u001b[43m    \u001b[49m\u001b[43m)\u001b[49m\n\u001b[1;32m    552\u001b[0m     rf \u001b[38;5;241m=\u001b[39m \u001b[38;5;28mself\u001b[39m\u001b[38;5;241m.\u001b[39m_stub\u001b[38;5;241m.\u001b[39mInsert\u001b[38;5;241m.\u001b[39mfuture(request, timeout\u001b[38;5;241m=\u001b[39mtimeout)\n",
      "File \u001b[0;32m/opt/app-root/lib64/python3.9/site-packages/pymilvus/client/grpc_handler.py:533\u001b[0m, in \u001b[0;36mGrpcHandler._prepare_batch_insert_request\u001b[0;34m(self, collection_name, entities, partition_name, timeout, **kwargs)\u001b[0m\n\u001b[1;32m    528\u001b[0m fields_info \u001b[38;5;241m=\u001b[39m schema[\u001b[38;5;124m\"\u001b[39m\u001b[38;5;124mfields\u001b[39m\u001b[38;5;124m\"\u001b[39m]\n\u001b[1;32m    530\u001b[0m \u001b[38;5;28;01mreturn\u001b[39;00m (\n\u001b[1;32m    531\u001b[0m     param\n\u001b[1;32m    532\u001b[0m     \u001b[38;5;28;01mif\u001b[39;00m param\n\u001b[0;32m--> 533\u001b[0m     \u001b[38;5;28;01melse\u001b[39;00m \u001b[43mPrepare\u001b[49m\u001b[38;5;241;43m.\u001b[39;49m\u001b[43mbatch_insert_param\u001b[49m\u001b[43m(\u001b[49m\u001b[43mcollection_name\u001b[49m\u001b[43m,\u001b[49m\u001b[43m \u001b[49m\u001b[43mentities\u001b[49m\u001b[43m,\u001b[49m\u001b[43m \u001b[49m\u001b[43mpartition_name\u001b[49m\u001b[43m,\u001b[49m\u001b[43m \u001b[49m\u001b[43mfields_info\u001b[49m\u001b[43m)\u001b[49m\n\u001b[1;32m    534\u001b[0m )\n",
      "File \u001b[0;32m/opt/app-root/lib64/python3.9/site-packages/pymilvus/client/prepare.py:525\u001b[0m, in \u001b[0;36mPrepare.batch_insert_param\u001b[0;34m(cls, collection_name, entities, partition_name, fields_info)\u001b[0m\n\u001b[1;32m    523\u001b[0m request \u001b[38;5;241m=\u001b[39m milvus_types\u001b[38;5;241m.\u001b[39mInsertRequest(collection_name\u001b[38;5;241m=\u001b[39mcollection_name, partition_name\u001b[38;5;241m=\u001b[39mtag)\n\u001b[0;32m--> 525\u001b[0m \u001b[38;5;28;01mreturn\u001b[39;00m \u001b[38;5;28;43mcls\u001b[39;49m\u001b[38;5;241;43m.\u001b[39;49m\u001b[43m_parse_batch_request\u001b[49m\u001b[43m(\u001b[49m\u001b[43mrequest\u001b[49m\u001b[43m,\u001b[49m\u001b[43m \u001b[49m\u001b[43mentities\u001b[49m\u001b[43m,\u001b[49m\u001b[43m \u001b[49m\u001b[43mfields_info\u001b[49m\u001b[43m,\u001b[49m\u001b[43m \u001b[49m\u001b[43mlocation\u001b[49m\u001b[43m)\u001b[49m\n",
      "File \u001b[0;32m/opt/app-root/lib64/python3.9/site-packages/pymilvus/client/prepare.py:506\u001b[0m, in \u001b[0;36mPrepare._parse_batch_request\u001b[0;34m(request, entities, fields_info, location)\u001b[0m\n\u001b[1;32m    505\u001b[0m \u001b[38;5;28;01mexcept\u001b[39;00m (\u001b[38;5;167;01mTypeError\u001b[39;00m, \u001b[38;5;167;01mValueError\u001b[39;00m) \u001b[38;5;28;01mas\u001b[39;00m e:\n\u001b[0;32m--> 506\u001b[0m     \u001b[38;5;28;01mraise\u001b[39;00m DataNotMatchException(message\u001b[38;5;241m=\u001b[39mExceptionsMessage\u001b[38;5;241m.\u001b[39mDataTypeInconsistent) \u001b[38;5;28;01mfrom\u001b[39;00m \u001b[38;5;21;01me\u001b[39;00m\n\u001b[1;32m    508\u001b[0m \u001b[38;5;28;01mif\u001b[39;00m pre_field_size \u001b[38;5;241m==\u001b[39m \u001b[38;5;241m0\u001b[39m:\n",
      "\u001b[0;31mDataNotMatchException\u001b[0m: <DataNotMatchException: (code=1, message=The Input data type is inconsistent with defined schema, please check it.)>",
      "\nThe above exception was the direct cause of the following exception:\n",
      "\u001b[0;31mDataNotMatchException\u001b[0m                     Traceback (most recent call last)",
      "Cell \u001b[0;32mIn[24], line 1\u001b[0m\n\u001b[0;32m----> 1\u001b[0m \u001b[43mdb\u001b[49m\u001b[38;5;241;43m.\u001b[39;49m\u001b[43madd_documents\u001b[49m\u001b[43m(\u001b[49m\u001b[43mall_splits\u001b[49m\u001b[43m)\u001b[49m\n",
      "File \u001b[0;32m/opt/app-root/lib64/python3.9/site-packages/langchain_core/vectorstores.py:138\u001b[0m, in \u001b[0;36mVectorStore.add_documents\u001b[0;34m(self, documents, **kwargs)\u001b[0m\n\u001b[1;32m    136\u001b[0m texts \u001b[38;5;241m=\u001b[39m [doc\u001b[38;5;241m.\u001b[39mpage_content \u001b[38;5;28;01mfor\u001b[39;00m doc \u001b[38;5;129;01min\u001b[39;00m documents]\n\u001b[1;32m    137\u001b[0m metadatas \u001b[38;5;241m=\u001b[39m [doc\u001b[38;5;241m.\u001b[39mmetadata \u001b[38;5;28;01mfor\u001b[39;00m doc \u001b[38;5;129;01min\u001b[39;00m documents]\n\u001b[0;32m--> 138\u001b[0m \u001b[38;5;28;01mreturn\u001b[39;00m \u001b[38;5;28;43mself\u001b[39;49m\u001b[38;5;241;43m.\u001b[39;49m\u001b[43madd_texts\u001b[49m\u001b[43m(\u001b[49m\u001b[43mtexts\u001b[49m\u001b[43m,\u001b[49m\u001b[43m \u001b[49m\u001b[43mmetadatas\u001b[49m\u001b[43m,\u001b[49m\u001b[43m \u001b[49m\u001b[38;5;241;43m*\u001b[39;49m\u001b[38;5;241;43m*\u001b[39;49m\u001b[43mkwargs\u001b[49m\u001b[43m)\u001b[49m\n",
      "File \u001b[0;32m/opt/app-root/lib64/python3.9/site-packages/langchain_community/vectorstores/milvus.py:626\u001b[0m, in \u001b[0;36mMilvus.add_texts\u001b[0;34m(self, texts, metadatas, timeout, batch_size, ids, **kwargs)\u001b[0m\n\u001b[1;32m    622\u001b[0m     \u001b[38;5;28;01mexcept\u001b[39;00m MilvusException \u001b[38;5;28;01mas\u001b[39;00m e:\n\u001b[1;32m    623\u001b[0m         logger\u001b[38;5;241m.\u001b[39merror(\n\u001b[1;32m    624\u001b[0m             \u001b[38;5;124m\"\u001b[39m\u001b[38;5;124mFailed to insert batch starting at entity: \u001b[39m\u001b[38;5;132;01m%s\u001b[39;00m\u001b[38;5;124m/\u001b[39m\u001b[38;5;132;01m%s\u001b[39;00m\u001b[38;5;124m\"\u001b[39m, i, total_count\n\u001b[1;32m    625\u001b[0m         )\n\u001b[0;32m--> 626\u001b[0m         \u001b[38;5;28;01mraise\u001b[39;00m e\n\u001b[1;32m    627\u001b[0m \u001b[38;5;28;01mreturn\u001b[39;00m pks\n",
      "File \u001b[0;32m/opt/app-root/lib64/python3.9/site-packages/langchain_community/vectorstores/milvus.py:620\u001b[0m, in \u001b[0;36mMilvus.add_texts\u001b[0;34m(self, texts, metadatas, timeout, batch_size, ids, **kwargs)\u001b[0m\n\u001b[1;32m    618\u001b[0m     res: Collection\n\u001b[1;32m    619\u001b[0m     timeout \u001b[38;5;241m=\u001b[39m \u001b[38;5;28mself\u001b[39m\u001b[38;5;241m.\u001b[39mtimeout \u001b[38;5;129;01mor\u001b[39;00m timeout\n\u001b[0;32m--> 620\u001b[0m     res \u001b[38;5;241m=\u001b[39m \u001b[38;5;28;43mself\u001b[39;49m\u001b[38;5;241;43m.\u001b[39;49m\u001b[43mcol\u001b[49m\u001b[38;5;241;43m.\u001b[39;49m\u001b[43minsert\u001b[49m\u001b[43m(\u001b[49m\u001b[43minsert_list\u001b[49m\u001b[43m,\u001b[49m\u001b[43m \u001b[49m\u001b[43mtimeout\u001b[49m\u001b[38;5;241;43m=\u001b[39;49m\u001b[43mtimeout\u001b[49m\u001b[43m,\u001b[49m\u001b[43m \u001b[49m\u001b[38;5;241;43m*\u001b[39;49m\u001b[38;5;241;43m*\u001b[39;49m\u001b[43mkwargs\u001b[49m\u001b[43m)\u001b[49m\n\u001b[1;32m    621\u001b[0m     pks\u001b[38;5;241m.\u001b[39mextend(res\u001b[38;5;241m.\u001b[39mprimary_keys)\n\u001b[1;32m    622\u001b[0m \u001b[38;5;28;01mexcept\u001b[39;00m MilvusException \u001b[38;5;28;01mas\u001b[39;00m e:\n",
      "File \u001b[0;32m/opt/app-root/lib64/python3.9/site-packages/pymilvus/orm/collection.py:497\u001b[0m, in \u001b[0;36mCollection.insert\u001b[0;34m(self, data, partition_name, timeout, **kwargs)\u001b[0m\n\u001b[1;32m    495\u001b[0m check_insert_schema(\u001b[38;5;28mself\u001b[39m\u001b[38;5;241m.\u001b[39m_schema, data)\n\u001b[1;32m    496\u001b[0m entities \u001b[38;5;241m=\u001b[39m Prepare\u001b[38;5;241m.\u001b[39mprepare_insert_data(data, \u001b[38;5;28mself\u001b[39m\u001b[38;5;241m.\u001b[39m_schema)\n\u001b[0;32m--> 497\u001b[0m res \u001b[38;5;241m=\u001b[39m \u001b[43mconn\u001b[49m\u001b[38;5;241;43m.\u001b[39;49m\u001b[43mbatch_insert\u001b[49m\u001b[43m(\u001b[49m\n\u001b[1;32m    498\u001b[0m \u001b[43m    \u001b[49m\u001b[38;5;28;43mself\u001b[39;49m\u001b[38;5;241;43m.\u001b[39;49m\u001b[43m_name\u001b[49m\u001b[43m,\u001b[49m\n\u001b[1;32m    499\u001b[0m \u001b[43m    \u001b[49m\u001b[43mentities\u001b[49m\u001b[43m,\u001b[49m\n\u001b[1;32m    500\u001b[0m \u001b[43m    \u001b[49m\u001b[43mpartition_name\u001b[49m\u001b[43m,\u001b[49m\n\u001b[1;32m    501\u001b[0m \u001b[43m    \u001b[49m\u001b[43mtimeout\u001b[49m\u001b[38;5;241;43m=\u001b[39;49m\u001b[43mtimeout\u001b[49m\u001b[43m,\u001b[49m\n\u001b[1;32m    502\u001b[0m \u001b[43m    \u001b[49m\u001b[43mschema\u001b[49m\u001b[38;5;241;43m=\u001b[39;49m\u001b[38;5;28;43mself\u001b[39;49m\u001b[38;5;241;43m.\u001b[39;49m\u001b[43m_schema_dict\u001b[49m\u001b[43m,\u001b[49m\n\u001b[1;32m    503\u001b[0m \u001b[43m    \u001b[49m\u001b[38;5;241;43m*\u001b[39;49m\u001b[38;5;241;43m*\u001b[39;49m\u001b[43mkwargs\u001b[49m\u001b[43m,\u001b[49m\n\u001b[1;32m    504\u001b[0m \u001b[43m\u001b[49m\u001b[43m)\u001b[49m\n\u001b[1;32m    505\u001b[0m \u001b[38;5;28;01mif\u001b[39;00m kwargs\u001b[38;5;241m.\u001b[39mget(\u001b[38;5;124m\"\u001b[39m\u001b[38;5;124m_async\u001b[39m\u001b[38;5;124m\"\u001b[39m, \u001b[38;5;28;01mFalse\u001b[39;00m):\n\u001b[1;32m    506\u001b[0m     \u001b[38;5;28;01mreturn\u001b[39;00m MutationFuture(res)\n",
      "File \u001b[0;32m/opt/app-root/lib64/python3.9/site-packages/pymilvus/decorators.py:135\u001b[0m, in \u001b[0;36merror_handler.<locals>.wrapper.<locals>.handler\u001b[0;34m(*args, **kwargs)\u001b[0m\n\u001b[1;32m    133\u001b[0m     record_dict[\u001b[38;5;124m\"\u001b[39m\u001b[38;5;124mRPC error\u001b[39m\u001b[38;5;124m\"\u001b[39m] \u001b[38;5;241m=\u001b[39m \u001b[38;5;28mstr\u001b[39m(datetime\u001b[38;5;241m.\u001b[39mdatetime\u001b[38;5;241m.\u001b[39mnow())\n\u001b[1;32m    134\u001b[0m     LOGGER\u001b[38;5;241m.\u001b[39merror(\u001b[38;5;124mf\u001b[39m\u001b[38;5;124m\"\u001b[39m\u001b[38;5;124mRPC error: [\u001b[39m\u001b[38;5;132;01m{\u001b[39;00minner_name\u001b[38;5;132;01m}\u001b[39;00m\u001b[38;5;124m], \u001b[39m\u001b[38;5;132;01m{\u001b[39;00me\u001b[38;5;132;01m}\u001b[39;00m\u001b[38;5;124m, <Time:\u001b[39m\u001b[38;5;132;01m{\u001b[39;00mrecord_dict\u001b[38;5;132;01m}\u001b[39;00m\u001b[38;5;124m>\u001b[39m\u001b[38;5;124m\"\u001b[39m)\n\u001b[0;32m--> 135\u001b[0m     \u001b[38;5;28;01mraise\u001b[39;00m e \u001b[38;5;28;01mfrom\u001b[39;00m \u001b[38;5;21;01me\u001b[39;00m\n\u001b[1;32m    136\u001b[0m \u001b[38;5;28;01mexcept\u001b[39;00m grpc\u001b[38;5;241m.\u001b[39mFutureTimeoutError \u001b[38;5;28;01mas\u001b[39;00m e:\n\u001b[1;32m    137\u001b[0m     record_dict[\u001b[38;5;124m\"\u001b[39m\u001b[38;5;124mgRPC timeout\u001b[39m\u001b[38;5;124m\"\u001b[39m] \u001b[38;5;241m=\u001b[39m \u001b[38;5;28mstr\u001b[39m(datetime\u001b[38;5;241m.\u001b[39mdatetime\u001b[38;5;241m.\u001b[39mnow())\n",
      "File \u001b[0;32m/opt/app-root/lib64/python3.9/site-packages/pymilvus/decorators.py:131\u001b[0m, in \u001b[0;36merror_handler.<locals>.wrapper.<locals>.handler\u001b[0;34m(*args, **kwargs)\u001b[0m\n\u001b[1;32m    129\u001b[0m \u001b[38;5;28;01mtry\u001b[39;00m:\n\u001b[1;32m    130\u001b[0m     record_dict[\u001b[38;5;124m\"\u001b[39m\u001b[38;5;124mRPC start\u001b[39m\u001b[38;5;124m\"\u001b[39m] \u001b[38;5;241m=\u001b[39m \u001b[38;5;28mstr\u001b[39m(datetime\u001b[38;5;241m.\u001b[39mdatetime\u001b[38;5;241m.\u001b[39mnow())\n\u001b[0;32m--> 131\u001b[0m     \u001b[38;5;28;01mreturn\u001b[39;00m \u001b[43mfunc\u001b[49m\u001b[43m(\u001b[49m\u001b[38;5;241;43m*\u001b[39;49m\u001b[43margs\u001b[49m\u001b[43m,\u001b[49m\u001b[43m \u001b[49m\u001b[38;5;241;43m*\u001b[39;49m\u001b[38;5;241;43m*\u001b[39;49m\u001b[43mkwargs\u001b[49m\u001b[43m)\u001b[49m\n\u001b[1;32m    132\u001b[0m \u001b[38;5;28;01mexcept\u001b[39;00m MilvusException \u001b[38;5;28;01mas\u001b[39;00m e:\n\u001b[1;32m    133\u001b[0m     record_dict[\u001b[38;5;124m\"\u001b[39m\u001b[38;5;124mRPC error\u001b[39m\u001b[38;5;124m\"\u001b[39m] \u001b[38;5;241m=\u001b[39m \u001b[38;5;28mstr\u001b[39m(datetime\u001b[38;5;241m.\u001b[39mdatetime\u001b[38;5;241m.\u001b[39mnow())\n",
      "File \u001b[0;32m/opt/app-root/lib64/python3.9/site-packages/pymilvus/decorators.py:170\u001b[0m, in \u001b[0;36mtracing_request.<locals>.wrapper.<locals>.handler\u001b[0;34m(self, *args, **kwargs)\u001b[0m\n\u001b[1;32m    168\u001b[0m \u001b[38;5;28;01mif\u001b[39;00m req_id:\n\u001b[1;32m    169\u001b[0m     \u001b[38;5;28mself\u001b[39m\u001b[38;5;241m.\u001b[39mset_onetime_request_id(req_id)\n\u001b[0;32m--> 170\u001b[0m \u001b[38;5;28;01mreturn\u001b[39;00m \u001b[43mfunc\u001b[49m\u001b[43m(\u001b[49m\u001b[38;5;28;43mself\u001b[39;49m\u001b[43m,\u001b[49m\u001b[43m \u001b[49m\u001b[38;5;241;43m*\u001b[39;49m\u001b[43margs\u001b[49m\u001b[43m,\u001b[49m\u001b[43m \u001b[49m\u001b[38;5;241;43m*\u001b[39;49m\u001b[38;5;241;43m*\u001b[39;49m\u001b[43mkwargs\u001b[49m\u001b[43m)\u001b[49m\n",
      "File \u001b[0;32m/opt/app-root/lib64/python3.9/site-packages/pymilvus/decorators.py:110\u001b[0m, in \u001b[0;36mretry_on_rpc_failure.<locals>.wrapper.<locals>.handler\u001b[0;34m(*args, **kwargs)\u001b[0m\n\u001b[1;32m    108\u001b[0m         back_off \u001b[38;5;241m=\u001b[39m \u001b[38;5;28mmin\u001b[39m(back_off \u001b[38;5;241m*\u001b[39m back_off_multiplier, max_back_off)\n\u001b[1;32m    109\u001b[0m     \u001b[38;5;28;01melse\u001b[39;00m:\n\u001b[0;32m--> 110\u001b[0m         \u001b[38;5;28;01mraise\u001b[39;00m e \u001b[38;5;28;01mfrom\u001b[39;00m \u001b[38;5;21;01me\u001b[39;00m\n\u001b[1;32m    111\u001b[0m \u001b[38;5;28;01mexcept\u001b[39;00m \u001b[38;5;167;01mException\u001b[39;00m \u001b[38;5;28;01mas\u001b[39;00m e:\n\u001b[1;32m    112\u001b[0m     \u001b[38;5;28;01mraise\u001b[39;00m e \u001b[38;5;28;01mfrom\u001b[39;00m \u001b[38;5;21;01me\u001b[39;00m\n",
      "File \u001b[0;32m/opt/app-root/lib64/python3.9/site-packages/pymilvus/decorators.py:74\u001b[0m, in \u001b[0;36mretry_on_rpc_failure.<locals>.wrapper.<locals>.handler\u001b[0;34m(*args, **kwargs)\u001b[0m\n\u001b[1;32m     72\u001b[0m \u001b[38;5;28;01mwhile\u001b[39;00m \u001b[38;5;28;01mTrue\u001b[39;00m:\n\u001b[1;32m     73\u001b[0m     \u001b[38;5;28;01mtry\u001b[39;00m:\n\u001b[0;32m---> 74\u001b[0m         \u001b[38;5;28;01mreturn\u001b[39;00m \u001b[43mfunc\u001b[49m\u001b[43m(\u001b[49m\u001b[38;5;241;43m*\u001b[39;49m\u001b[43margs\u001b[49m\u001b[43m,\u001b[49m\u001b[43m \u001b[49m\u001b[38;5;241;43m*\u001b[39;49m\u001b[38;5;241;43m*\u001b[39;49m\u001b[43mkwargs\u001b[49m\u001b[43m)\u001b[49m\n\u001b[1;32m     75\u001b[0m     \u001b[38;5;28;01mexcept\u001b[39;00m grpc\u001b[38;5;241m.\u001b[39mRpcError \u001b[38;5;28;01mas\u001b[39;00m e:\n\u001b[1;32m     76\u001b[0m         \u001b[38;5;66;03m# Reference: https://grpc.github.io/grpc/python/grpc.html#grpc-status-code\u001b[39;00m\n\u001b[1;32m     77\u001b[0m         \u001b[38;5;28;01mif\u001b[39;00m e\u001b[38;5;241m.\u001b[39mcode() \u001b[38;5;129;01min\u001b[39;00m (\n\u001b[1;32m     78\u001b[0m             grpc\u001b[38;5;241m.\u001b[39mStatusCode\u001b[38;5;241m.\u001b[39mDEADLINE_EXCEEDED,\n\u001b[1;32m     79\u001b[0m             grpc\u001b[38;5;241m.\u001b[39mStatusCode\u001b[38;5;241m.\u001b[39mPERMISSION_DENIED,\n\u001b[0;32m   (...)\u001b[0m\n\u001b[1;32m     83\u001b[0m             grpc\u001b[38;5;241m.\u001b[39mStatusCode\u001b[38;5;241m.\u001b[39mRESOURCE_EXHAUSTED,\n\u001b[1;32m     84\u001b[0m         ):\n",
      "File \u001b[0;32m/opt/app-root/lib64/python3.9/site-packages/pymilvus/client/grpc_handler.py:566\u001b[0m, in \u001b[0;36mGrpcHandler.batch_insert\u001b[0;34m(self, collection_name, entities, partition_name, timeout, **kwargs)\u001b[0m\n\u001b[1;32m    564\u001b[0m     \u001b[38;5;28;01mif\u001b[39;00m kwargs\u001b[38;5;241m.\u001b[39mget(\u001b[38;5;124m\"\u001b[39m\u001b[38;5;124m_async\u001b[39m\u001b[38;5;124m\"\u001b[39m, \u001b[38;5;28;01mFalse\u001b[39;00m):\n\u001b[1;32m    565\u001b[0m         \u001b[38;5;28;01mreturn\u001b[39;00m MutationFuture(\u001b[38;5;28;01mNone\u001b[39;00m, \u001b[38;5;28;01mNone\u001b[39;00m, err)\n\u001b[0;32m--> 566\u001b[0m     \u001b[38;5;28;01mraise\u001b[39;00m err \u001b[38;5;28;01mfrom\u001b[39;00m \u001b[38;5;21;01merr\u001b[39;00m\n\u001b[1;32m    567\u001b[0m \u001b[38;5;28;01melse\u001b[39;00m:\n\u001b[1;32m    568\u001b[0m     \u001b[38;5;28;01mreturn\u001b[39;00m m\n",
      "File \u001b[0;32m/opt/app-root/lib64/python3.9/site-packages/pymilvus/client/grpc_handler.py:549\u001b[0m, in \u001b[0;36mGrpcHandler.batch_insert\u001b[0;34m(self, collection_name, entities, partition_name, timeout, **kwargs)\u001b[0m\n\u001b[1;32m    546\u001b[0m     \u001b[38;5;28;01mraise\u001b[39;00m ParamError(message\u001b[38;5;241m=\u001b[39m\u001b[38;5;124m\"\u001b[39m\u001b[38;5;124mInvalid binary vector data exists\u001b[39m\u001b[38;5;124m\"\u001b[39m)\n\u001b[1;32m    548\u001b[0m \u001b[38;5;28;01mtry\u001b[39;00m:\n\u001b[0;32m--> 549\u001b[0m     request \u001b[38;5;241m=\u001b[39m \u001b[38;5;28;43mself\u001b[39;49m\u001b[38;5;241;43m.\u001b[39;49m\u001b[43m_prepare_batch_insert_request\u001b[49m\u001b[43m(\u001b[49m\n\u001b[1;32m    550\u001b[0m \u001b[43m        \u001b[49m\u001b[43mcollection_name\u001b[49m\u001b[43m,\u001b[49m\u001b[43m \u001b[49m\u001b[43mentities\u001b[49m\u001b[43m,\u001b[49m\u001b[43m \u001b[49m\u001b[43mpartition_name\u001b[49m\u001b[43m,\u001b[49m\u001b[43m \u001b[49m\u001b[43mtimeout\u001b[49m\u001b[43m,\u001b[49m\u001b[43m \u001b[49m\u001b[38;5;241;43m*\u001b[39;49m\u001b[38;5;241;43m*\u001b[39;49m\u001b[43mkwargs\u001b[49m\n\u001b[1;32m    551\u001b[0m \u001b[43m    \u001b[49m\u001b[43m)\u001b[49m\n\u001b[1;32m    552\u001b[0m     rf \u001b[38;5;241m=\u001b[39m \u001b[38;5;28mself\u001b[39m\u001b[38;5;241m.\u001b[39m_stub\u001b[38;5;241m.\u001b[39mInsert\u001b[38;5;241m.\u001b[39mfuture(request, timeout\u001b[38;5;241m=\u001b[39mtimeout)\n\u001b[1;32m    553\u001b[0m     \u001b[38;5;28;01mif\u001b[39;00m kwargs\u001b[38;5;241m.\u001b[39mget(\u001b[38;5;124m\"\u001b[39m\u001b[38;5;124m_async\u001b[39m\u001b[38;5;124m\"\u001b[39m, \u001b[38;5;28;01mFalse\u001b[39;00m) \u001b[38;5;129;01mis\u001b[39;00m \u001b[38;5;28;01mTrue\u001b[39;00m:\n",
      "File \u001b[0;32m/opt/app-root/lib64/python3.9/site-packages/pymilvus/client/grpc_handler.py:533\u001b[0m, in \u001b[0;36mGrpcHandler._prepare_batch_insert_request\u001b[0;34m(self, collection_name, entities, partition_name, timeout, **kwargs)\u001b[0m\n\u001b[1;32m    526\u001b[0m     schema \u001b[38;5;241m=\u001b[39m \u001b[38;5;28mself\u001b[39m\u001b[38;5;241m.\u001b[39mdescribe_collection(collection_name, timeout\u001b[38;5;241m=\u001b[39mtimeout, \u001b[38;5;241m*\u001b[39m\u001b[38;5;241m*\u001b[39mkwargs)\n\u001b[1;32m    528\u001b[0m fields_info \u001b[38;5;241m=\u001b[39m schema[\u001b[38;5;124m\"\u001b[39m\u001b[38;5;124mfields\u001b[39m\u001b[38;5;124m\"\u001b[39m]\n\u001b[1;32m    530\u001b[0m \u001b[38;5;28;01mreturn\u001b[39;00m (\n\u001b[1;32m    531\u001b[0m     param\n\u001b[1;32m    532\u001b[0m     \u001b[38;5;28;01mif\u001b[39;00m param\n\u001b[0;32m--> 533\u001b[0m     \u001b[38;5;28;01melse\u001b[39;00m \u001b[43mPrepare\u001b[49m\u001b[38;5;241;43m.\u001b[39;49m\u001b[43mbatch_insert_param\u001b[49m\u001b[43m(\u001b[49m\u001b[43mcollection_name\u001b[49m\u001b[43m,\u001b[49m\u001b[43m \u001b[49m\u001b[43mentities\u001b[49m\u001b[43m,\u001b[49m\u001b[43m \u001b[49m\u001b[43mpartition_name\u001b[49m\u001b[43m,\u001b[49m\u001b[43m \u001b[49m\u001b[43mfields_info\u001b[49m\u001b[43m)\u001b[49m\n\u001b[1;32m    534\u001b[0m )\n",
      "File \u001b[0;32m/opt/app-root/lib64/python3.9/site-packages/pymilvus/client/prepare.py:525\u001b[0m, in \u001b[0;36mPrepare.batch_insert_param\u001b[0;34m(cls, collection_name, entities, partition_name, fields_info)\u001b[0m\n\u001b[1;32m    522\u001b[0m tag \u001b[38;5;241m=\u001b[39m partition_name \u001b[38;5;28;01mif\u001b[39;00m \u001b[38;5;28misinstance\u001b[39m(partition_name, \u001b[38;5;28mstr\u001b[39m) \u001b[38;5;28;01melse\u001b[39;00m \u001b[38;5;124m\"\u001b[39m\u001b[38;5;124m\"\u001b[39m\n\u001b[1;32m    523\u001b[0m request \u001b[38;5;241m=\u001b[39m milvus_types\u001b[38;5;241m.\u001b[39mInsertRequest(collection_name\u001b[38;5;241m=\u001b[39mcollection_name, partition_name\u001b[38;5;241m=\u001b[39mtag)\n\u001b[0;32m--> 525\u001b[0m \u001b[38;5;28;01mreturn\u001b[39;00m \u001b[38;5;28;43mcls\u001b[39;49m\u001b[38;5;241;43m.\u001b[39;49m\u001b[43m_parse_batch_request\u001b[49m\u001b[43m(\u001b[49m\u001b[43mrequest\u001b[49m\u001b[43m,\u001b[49m\u001b[43m \u001b[49m\u001b[43mentities\u001b[49m\u001b[43m,\u001b[49m\u001b[43m \u001b[49m\u001b[43mfields_info\u001b[49m\u001b[43m,\u001b[49m\u001b[43m \u001b[49m\u001b[43mlocation\u001b[49m\u001b[43m)\u001b[49m\n",
      "File \u001b[0;32m/opt/app-root/lib64/python3.9/site-packages/pymilvus/client/prepare.py:506\u001b[0m, in \u001b[0;36mPrepare._parse_batch_request\u001b[0;34m(request, entities, fields_info, location)\u001b[0m\n\u001b[1;32m    504\u001b[0m         request\u001b[38;5;241m.\u001b[39mfields_data\u001b[38;5;241m.\u001b[39mappend(field_data)\n\u001b[1;32m    505\u001b[0m \u001b[38;5;28;01mexcept\u001b[39;00m (\u001b[38;5;167;01mTypeError\u001b[39;00m, \u001b[38;5;167;01mValueError\u001b[39;00m) \u001b[38;5;28;01mas\u001b[39;00m e:\n\u001b[0;32m--> 506\u001b[0m     \u001b[38;5;28;01mraise\u001b[39;00m DataNotMatchException(message\u001b[38;5;241m=\u001b[39mExceptionsMessage\u001b[38;5;241m.\u001b[39mDataTypeInconsistent) \u001b[38;5;28;01mfrom\u001b[39;00m \u001b[38;5;21;01me\u001b[39;00m\n\u001b[1;32m    508\u001b[0m \u001b[38;5;28;01mif\u001b[39;00m pre_field_size \u001b[38;5;241m==\u001b[39m \u001b[38;5;241m0\u001b[39m:\n\u001b[1;32m    509\u001b[0m     \u001b[38;5;28;01mraise\u001b[39;00m ParamError(message\u001b[38;5;241m=\u001b[39mExceptionsMessage\u001b[38;5;241m.\u001b[39mNumberRowsInvalid)\n",
      "\u001b[0;31mDataNotMatchException\u001b[0m: <DataNotMatchException: (code=1, message=The Input data type is inconsistent with defined schema, please check it.)>"
     ]
    }
   ],
   "source": [
    "db.add_documents(all_splits)"
   ]
  },
  {
   "cell_type": "markdown",
   "id": "7a3d987b-8ebc-46ce-a206-48c1339b7a5b",
   "metadata": {},
   "source": [
    "#### Alternatively, add new documents"
   ]
  },
  {
   "cell_type": "code",
   "execution_count": null,
   "id": "c37f227d-a13d-456c-b91b-3c203e62fc0f",
   "metadata": {},
   "outputs": [],
   "source": [
    "# If you don't want to use a GPU, you can remove the 'device': 'cuda' argument\n",
    "# model_kwargs = {'trust_remote_code': True, 'device': 'cuda'}\n",
    "# embeddings = HuggingFaceEmbeddings(\n",
    "#     model_name=\"nomic-ai/nomic-embed-text-v1\",\n",
    "#     model_kwargs=model_kwargs,\n",
    "#     show_progress=True\n",
    "# )\n",
    "\n",
    "# db = Milvus(\n",
    "#     embedding_function=embeddings,\n",
    "#     connection_args={\"host\": MILVUS_HOST, \"port\": MILVUS_PORT, \"user\": MILVUS_USERNAME, \"password\": MILVUS_PASSWORD},\n",
    "#     collection_name=MILVUS_COLLECTION,\n",
    "#     metadata_field=\"metadata\",\n",
    "#     text_field=\"page_content\",\n",
    "#     auto_id=True,\n",
    "#     drop_old=False\n",
    "#     )\n",
    "\n",
    "# db.add_documents(all_splits)"
   ]
  },
  {
   "cell_type": "markdown",
   "id": "dae3b458-4979-46df-8493-7496764a2568",
   "metadata": {},
   "source": [
    "#### Test query"
   ]
  },
  {
   "cell_type": "code",
   "execution_count": 25,
   "id": "489c6e6d-c42c-4de4-87cf-8edfd0e63da3",
   "metadata": {
    "tags": []
   },
   "outputs": [
    {
     "data": {
      "application/vnd.jupyter.widget-view+json": {
       "model_id": "1ee6ccc7e7554a41ae46558ef63fbb43",
       "version_major": 2,
       "version_minor": 0
      },
      "text/plain": [
       "Batches:   0%|          | 0/1 [00:00<?, ?it/s]"
      ]
     },
     "metadata": {},
     "output_type": "display_data"
    }
   ],
   "source": [
    "query = \"Who is Anke Fritzenkoetter?\"\n",
    "docs_with_score = db.similarity_search_with_score(query)"
   ]
  },
  {
   "cell_type": "code",
   "execution_count": 26,
   "id": "90feeb37-7888-4c5f-a5cb-5f82637cec16",
   "metadata": {
    "tags": []
   },
   "outputs": [
    {
     "name": "stdout",
     "output_type": "stream",
     "text": [
      "--------------------------------------------------------------------------------\n",
      "Score:  0.5264995098114014\n",
      "ISV Business (Anke \n",
      "Fritzenkoetter)\n",
      "--------------------------------------------------------------------------------\n",
      "--------------------------------------------------------------------------------\n",
      "Score:  0.9638674259185791\n",
      "rer der Welt, steckt im Ausgebremst\n",
      "ZF FRIEDRICHSHAFEN  Der Zulieferer will Ballast abwerfen. \n",
      "Auch der „People Mover“ steht zum Verkauf.\n",
      "Aussteigen, bitte: ZF Friedrichshafen will sein Shuttle-Geschäft loswerden\n",
      "Vor dem Move: \n",
      "der neue ZF-Chef \n",
      "Holger Klein\n",
      "Fotos: Robert Hoernig, Felix Kästle\n",
      "2022-09__mm__All__Namen und Nachrichten__114771__2209_NNAufmacher-010__013   132022-09__mm__All__Namen und Nachrichten__114771__2209_NNAufmacher-010__013   13 22.08.2022   09:16:4322.08.2022   09:16:43\n",
      "--------------------------------------------------------------------------------\n",
      "--------------------------------------------------------------------------------\n",
      "Score:  0.9788108468055725\n",
      "EURE ANSPRECHPARTNER\n",
      "--------------------------------------------------------------------------------\n",
      "--------------------------------------------------------------------------------\n",
      "Score:  0.9866649508476257\n",
      "Muss man gendern, \n",
      "wie solidarisch  \n",
      "sind wir, was ist \n",
      "wirklich wichtig?  \n",
      "Autorin Gisela  \n",
      "Maria Freisinger  mit \n",
      "den Wiesn-Wirtinnen \n",
      "Steffi Spendler,  \n",
      "Silja Steinberg,  \n",
      "Antje Haberl  (v. l.).\n",
      "Sven Clausen, ChefredakteurFoto: Florian Generotzky für manager magazin\n",
      "manager magazin SEPTEMBER 2022  5EDITORIAL\n",
      "Die Volkswagen AG ist ein Spie -\n",
      "gelbild Deutschlands. Auf den \n",
      "flüchtigen Blick: Alles ganz in \n",
      "Ordnung. Glänzende Zahlen, \n",
      "erfolgreich in aller Welt, und \n",
      "bei der Zukunft ist man auch \n",
      "irgendwie dabei. \n",
      "Der genauere Blick offenbart er -\n",
      "schreckende Risiken. Die Elektroautos \n",
      "sind nur halbgut, bei der Software tun \n",
      "sich Krater auf. Die Lage ist derart pre -\n",
      "kär, dass sie in Wolfsburg inzwischen \n",
      "intern vor einem negativen Cashflow ab \n",
      "2025 warnen. So etwas kann in einer \n",
      "Abwärtsspirale münden. Das liegt we -\n",
      "sentlich an Herbert Diess. Der CEO hat \n",
      "gern Zeit in Podcasts, Talkshows und \n",
      "auf Social Media verbracht. Er hat räso -\n",
      "niert und angekündigt. Aber er hat viel\n",
      "--------------------------------------------------------------------------------\n"
     ]
    }
   ],
   "source": [
    "for doc, score in docs_with_score:\n",
    "    print(\"-\" * 80)\n",
    "    print(\"Score: \", score)\n",
    "    print(doc.page_content)\n",
    "    print(\"-\" * 80)"
   ]
  },
  {
   "cell_type": "code",
   "execution_count": null,
   "id": "2126160c-abaa-43b6-ab44-3b386c68ee07",
   "metadata": {},
   "outputs": [],
   "source": []
  }
 ],
 "metadata": {
  "kernelspec": {
   "display_name": "Python 3.9",
   "language": "python",
   "name": "python3"
  },
  "language_info": {
   "codemirror_mode": {
    "name": "ipython",
    "version": 3
   },
   "file_extension": ".py",
   "mimetype": "text/x-python",
   "name": "python",
   "nbconvert_exporter": "python",
   "pygments_lexer": "ipython3",
   "version": "3.9.16"
  }
 },
 "nbformat": 4,
 "nbformat_minor": 5
}
