{
 "cells": [
  {
   "cell_type": "markdown",
   "id": "06980080-ce0e-42cb-8c8a-011d8a9ee8e2",
   "metadata": {
    "tags": []
   },
   "source": [
    "## Creating an index and populating it with documents using Milvus and Nomic AI Embeddings\n",
    "\n",
    "Simple example on how to ingest PDF documents, then web pages content into a Milvus VectorStore. . In this example, the embeddings are the fully open source ones released by NomicAI, [nomic-embed-text-v1](https://huggingface.co/nomic-ai/nomic-embed-text-v1).\n",
    "\n",
    "As described in [this blog post](https://blog.nomic.ai/posts/nomic-embed-text-v1), those embeddings feature a \"8192 context-length that outperforms OpenAI Ada-002 and text-embedding-3-small on both short and long context tasks\". In additions, they are:\n",
    "\n",
    "- Open source\n",
    "- Open data\n",
    "- Open training code\n",
    "- Fully reproducible and auditable\n",
    "\n",
    "Requirements:\n",
    "- A Milvus instance, either standalone or cluster."
   ]
  },
  {
   "cell_type": "markdown",
   "id": "8308b229-b520-4e82-a783-eb921bb955e7",
   "metadata": {},
   "source": [
    "### Needed packages and imports"
   ]
  },
  {
   "cell_type": "code",
   "execution_count": null,
   "id": "91e41b41-f60a-4b0f-91a1-cd273b60f21b",
   "metadata": {
    "tags": []
   },
   "outputs": [],
   "source": [
    "!pip install -q einops==0.7.0 langchain==0.1.9 pypdf==4.0.2 pymilvus==2.3.6 sentence-transformers==2.4.0 python-docx unstructured[docx,pptx] python-pptx docx2txt"
   ]
  },
  {
   "cell_type": "code",
   "execution_count": null,
   "id": "bca2df80-d691-45a9-9ade-95fb3fa988e4",
   "metadata": {},
   "outputs": [],
   "source": []
  },
  {
   "cell_type": "code",
   "execution_count": null,
   "id": "600cd763-6ecc-4c77-89c0-47108c31c44e",
   "metadata": {
    "tags": []
   },
   "outputs": [],
   "source": [
    "import requests\n",
    "import os\n",
    "from langchain.document_loaders import PyPDFDirectoryLoader, WebBaseLoader, Docx2txtLoader\n",
    "from langchain_community.document_loaders import UnstructuredPowerPointLoader, PyPDFLoader\n",
    "from langchain.text_splitter import RecursiveCharacterTextSplitter\n",
    "from langchain.embeddings.huggingface import HuggingFaceEmbeddings\n",
    "from langchain_community.vectorstores import Milvus\n",
    "import docx2txt"
   ]
  },
  {
   "cell_type": "markdown",
   "id": "1a82063d-6153-4812-8977-042241736b53",
   "metadata": {},
   "source": [
    "### Base parameters, the Milvus connection info"
   ]
  },
  {
   "cell_type": "code",
   "execution_count": null,
   "id": "417ed4a4-9418-4f48-bebd-ef0ea11ae434",
   "metadata": {
    "tags": []
   },
   "outputs": [],
   "source": [
    "MILVUS_HOST = \"vectordb-milvus\"\n",
    "MILVUS_PORT = 19530\n",
    "MILVUS_USERNAME = \"root\"\n",
    "MILVUS_PASSWORD = \"Milvus\"\n",
    "MILVUS_COLLECTION = \"redhat_notes\""
   ]
  },
  {
   "cell_type": "markdown",
   "id": "f68f6785-480e-4519-be4f-8e1738dba4ca",
   "metadata": {},
   "source": [
    "## Initial index creation and document ingestion"
   ]
  },
  {
   "cell_type": "markdown",
   "id": "ad0629c6-addf-4d1f-badc-1765a0e1808a",
   "metadata": {
    "tags": []
   },
   "source": [
    "#### Load pfs"
   ]
  },
  {
   "cell_type": "code",
   "execution_count": null,
   "id": "3b96f15a-7dc3-4143-afe3-44e71a2304a5",
   "metadata": {
    "tags": []
   },
   "outputs": [],
   "source": [
    "pdf_folder_path = \"../../knowledge_base_data\"\n",
    "# Create a list to store the loaded data from all files\n",
    "all_data_pdfs = []\n",
    "success_counter = 0\n",
    "\n",
    "# Iterate over all files in the directory\n",
    "for filename in os.listdir(pdf_folder_path):\n",
    "    if filename.endswith(\".pdf\"):\n",
    "        file_path = os.path.join(pdf_folder_path, filename)\n",
    "        try:\n",
    "            loader = PyPDFLoader(file_path)\n",
    "            data = loader.load()\n",
    "            all_data_pdfs.append(data)\n",
    "            success_counter += 1\n",
    "        except Exception as e:\n",
    "            print(f\"Error loading file '{filename}': {e}\")\n",
    "            continue  # Skip to the next iteration\n",
    "print(f\"Successfully loaded '{success_counter}' pdfs\")"
   ]
  },
  {
   "cell_type": "code",
   "execution_count": null,
   "id": "01776a1f-ab58-4581-a9b0-9531a15053fa",
   "metadata": {
    "tags": []
   },
   "outputs": [],
   "source": [
    "all_data_pdfs[0]"
   ]
  },
  {
   "cell_type": "code",
   "execution_count": null,
   "id": "e3208731-1a85-489e-89aa-38a4b1478884",
   "metadata": {},
   "outputs": [],
   "source": [
    "docs = []\n",
    "for sublist_pdfs in all_data_pdfs:\n",
    "    for subitem in sublist_pdfs:\n",
    "        docs.append(subitem)"
   ]
  },
  {
   "cell_type": "code",
   "execution_count": null,
   "id": "9c7fddbf-1888-42d3-a8b1-07d6f06066f2",
   "metadata": {
    "tags": []
   },
   "outputs": [],
   "source": [
    "len(docs)"
   ]
  },
  {
   "cell_type": "markdown",
   "id": "f8cff5f7-c509-48db-90b5-e15815b8b530",
   "metadata": {},
   "source": [
    "#### Load docx Files"
   ]
  },
  {
   "cell_type": "code",
   "execution_count": null,
   "id": "af4074d4-eff4-45b2-902d-ec8c075a83ef",
   "metadata": {
    "tags": []
   },
   "outputs": [],
   "source": [
    "docx_folder_path = \"../../knowledge_base_data\"\n",
    "\n",
    "# Create a list to store the loaded data from all files\n",
    "all_data_docx = []\n",
    "success_counter = 0\n",
    "\n",
    "# Iterate over all files in the directory\n",
    "for filename in os.listdir(docx_folder_path):\n",
    "    if filename.endswith(\".docx\"):\n",
    "        file_path = os.path.join(docx_folder_path, filename)\n",
    "        try:\n",
    "            loader = Docx2txtLoader(file_path)\n",
    "            data = loader.load()\n",
    "            all_data_docx.append(data)\n",
    "            success_counter += 1\n",
    "        except Exception as e:\n",
    "            print(f\"Error loading file '{filename}': {e}\")\n",
    "            continue  # Skip to the next iteration\n",
    "print(f\"Successfully loaded '{success_counter}' documents\")"
   ]
  },
  {
   "cell_type": "code",
   "execution_count": null,
   "id": "829ccb30-5d51-4c20-8f4e-66cae542d833",
   "metadata": {
    "tags": []
   },
   "outputs": [],
   "source": [
    "for sublist_docx in all_data_docx:\n",
    "    for subitem in sublist_docx:\n",
    "        docs.append(subitem)"
   ]
  },
  {
   "cell_type": "code",
   "execution_count": null,
   "id": "4a1ad0da-62ea-4447-aa32-be94a8de736b",
   "metadata": {
    "tags": []
   },
   "outputs": [],
   "source": [
    "len(docs)"
   ]
  },
  {
   "cell_type": "markdown",
   "id": "b0c31834-34e0-4559-928a-addafdeb8df7",
   "metadata": {},
   "source": [
    "#### Load pptx files"
   ]
  },
  {
   "cell_type": "code",
   "execution_count": null,
   "id": "2dc86434-36e5-4630-a1f8-0f696febb0a3",
   "metadata": {
    "tags": []
   },
   "outputs": [],
   "source": [
    "pptx_folder_path = \"../../knowledge_base_data\"\n",
    "\n",
    "# Create a list to store the loaded data from all files\n",
    "all_data_pptx = []\n",
    "success_counter = 0\n",
    "\n",
    "# Iterate over all files in the directory\n",
    "for filename in os.listdir(pptx_folder_path):\n",
    "    if filename.endswith(\".pptx\"):\n",
    "        file_path = os.path.join(pptx_folder_path, filename)\n",
    "        try:\n",
    "            loader = UnstructuredPowerPointLoader(file_path)\n",
    "            data = loader.load()\n",
    "            all_data_pptx.append(data)\n",
    "            success_counter += 1\n",
    "        except Exception as e:\n",
    "            print(f\"Error loading file '{filename}': {e}\")\n",
    "            continue  # Skip to the next iteration\n",
    "print(f\"Successfully loaded '{success_counter}' documents\")"
   ]
  },
  {
   "cell_type": "code",
   "execution_count": null,
   "id": "21fa0b04-05fd-48dd-9b79-65c565633744",
   "metadata": {},
   "outputs": [],
   "source": [
    "for sublist_pptx in all_data_pptx:\n",
    "    for subitem in sublist_pptx:\n",
    "        docs.append(subitem)"
   ]
  },
  {
   "cell_type": "code",
   "execution_count": null,
   "id": "0bb23976-cfdc-40f8-9f72-a0b10d5b86c4",
   "metadata": {},
   "outputs": [],
   "source": [
    "print(f\"Loaded '{len(docs)}' files in total\")"
   ]
  },
  {
   "cell_type": "markdown",
   "id": "cde7ed3a-0530-47a1-95c2-22db6c782a95",
   "metadata": {},
   "source": [
    "#### Inject metadata"
   ]
  },
  {
   "cell_type": "markdown",
   "id": "157ddd29-54b3-474a-9b10-2d274bc3254f",
   "metadata": {},
   "source": [
    "#### Merge both types of docs"
   ]
  },
  {
   "cell_type": "markdown",
   "id": "4198fe0a-38bf-4cd4-af7d-35b41c645edd",
   "metadata": {},
   "source": [
    "#### Split documents into chunks with some overlap"
   ]
  },
  {
   "cell_type": "code",
   "execution_count": null,
   "id": "edba4a08-2194-4df1-9091-6f2b596757a1",
   "metadata": {
    "tags": []
   },
   "outputs": [],
   "source": [
    "text_splitter = RecursiveCharacterTextSplitter(chunk_size=1024,\n",
    "                                               chunk_overlap=120)\n",
    "all_splits = text_splitter.split_documents(docs)\n",
    "all_splits[15]"
   ]
  },
  {
   "cell_type": "markdown",
   "id": "7ae7eae2-c670-4eb5-803b-b4d591fa83db",
   "metadata": {},
   "source": [
    "len(docs)len(docs)#### Create the index and ingest the documents"
   ]
  },
  {
   "cell_type": "code",
   "execution_count": null,
   "id": "bbb6a3e3-5ccd-441e-b80d-427555d9e9f6",
   "metadata": {
    "tags": []
   },
   "outputs": [],
   "source": [
    "# If you don't want to use a GPU, you can remove the 'device': 'cuda' argument\n",
    "# model_kwargs = {'trust_remote_code': True, 'device': 'cuda'}\n",
    "model_kwargs = {'trust_remote_code': True, 'device': 'cuda'}\n",
    "embeddings = HuggingFaceEmbeddings(\n",
    "    model_name=\"nomic-ai/nomic-embed-text-v1\",\n",
    "    model_kwargs=model_kwargs,\n",
    "    show_progress=True\n",
    ")"
   ]
  },
  {
   "cell_type": "code",
   "execution_count": null,
   "id": "6230dde0-251e-4b32-ba7b-67ba65fde0ca",
   "metadata": {
    "tags": []
   },
   "outputs": [],
   "source": [
    "db = Milvus(\n",
    "    embedding_function=embeddings,\n",
    "    connection_args={\"host\": MILVUS_HOST, \"port\": MILVUS_PORT, \"user\": MILVUS_USERNAME, \"password\": MILVUS_PASSWORD},\n",
    "    collection_name=MILVUS_COLLECTION,\n",
    "    metadata_field=\"metadata\",\n",
    "    text_field=\"page_content\",\n",
    "    auto_id=True,\n",
    "    drop_old=True\n",
    "    )"
   ]
  },
  {
   "cell_type": "code",
   "execution_count": null,
   "id": "b6bf425b-dffd-4f42-9537-49d41383182d",
   "metadata": {
    "tags": []
   },
   "outputs": [],
   "source": [
    "db.add_documents(all_splits)"
   ]
  },
  {
   "cell_type": "markdown",
   "id": "7a3d987b-8ebc-46ce-a206-48c1339b7a5b",
   "metadata": {},
   "source": [
    "#### Alternatively, add new documents"
   ]
  },
  {
   "cell_type": "code",
   "execution_count": null,
   "id": "c37f227d-a13d-456c-b91b-3c203e62fc0f",
   "metadata": {},
   "outputs": [],
   "source": [
    "# If you don't want to use a GPU, you can remove the 'device': 'cuda' argument\n",
    "# model_kwargs = {'trust_remote_code': True, 'device': 'cuda'}\n",
    "# embeddings = HuggingFaceEmbeddings(\n",
    "#     model_name=\"nomic-ai/nomic-embed-text-v1\",\n",
    "#     model_kwargs=model_kwargs,\n",
    "#     show_progress=True\n",
    "# )\n",
    "\n",
    "# db = Milvus(\n",
    "#     embedding_function=embeddings,\n",
    "#     connection_args={\"host\": MILVUS_HOST, \"port\": MILVUS_PORT, \"user\": MILVUS_USERNAME, \"password\": MILVUS_PASSWORD},\n",
    "#     collection_name=MILVUS_COLLECTION,\n",
    "#     metadata_field=\"metadata\",\n",
    "#     text_field=\"page_content\",\n",
    "#     auto_id=True,\n",
    "#     drop_old=False\n",
    "#     )\n",
    "\n",
    "# db.add_documents(all_splits)"
   ]
  },
  {
   "cell_type": "markdown",
   "id": "dae3b458-4979-46df-8493-7496764a2568",
   "metadata": {},
   "source": [
    "#### Test query"
   ]
  },
  {
   "cell_type": "code",
   "execution_count": null,
   "id": "489c6e6d-c42c-4de4-87cf-8edfd0e63da3",
   "metadata": {
    "tags": []
   },
   "outputs": [],
   "source": [
    "query = \"Who is someone?\"\n",
    "docs_with_score = db.similarity_search_with_score(query)"
   ]
  },
  {
   "cell_type": "code",
   "execution_count": null,
   "id": "90feeb37-7888-4c5f-a5cb-5f82637cec16",
   "metadata": {
    "tags": []
   },
   "outputs": [],
   "source": [
    "for doc, score in docs_with_score:\n",
    "    print(\"-\" * 80)\n",
    "    print(\"Score: \", score)\n",
    "    print(doc.page_content)\n",
    "    print(\"-\" * 80)"
   ]
  },
  {
   "cell_type": "code",
   "execution_count": null,
   "id": "2126160c-abaa-43b6-ab44-3b386c68ee07",
   "metadata": {},
   "outputs": [],
   "source": []
  }
 ],
 "metadata": {
  "kernelspec": {
   "display_name": "Python 3.9",
   "language": "python",
   "name": "python3"
  },
  "language_info": {
   "codemirror_mode": {
    "name": "ipython",
    "version": 3
   },
   "file_extension": ".py",
   "mimetype": "text/x-python",
   "name": "python",
   "nbconvert_exporter": "python",
   "pygments_lexer": "ipython3",
   "version": "3.9.16"
  }
 },
 "nbformat": 4,
 "nbformat_minor": 5
}
